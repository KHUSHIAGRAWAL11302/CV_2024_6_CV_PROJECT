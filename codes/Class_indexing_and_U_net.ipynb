{
  "nbformat": 4,
  "nbformat_minor": 0,
  "metadata": {
    "colab": {
      "provenance": [],
      "gpuType": "T4"
    },
    "kernelspec": {
      "name": "python3",
      "display_name": "Python 3"
    },
    "language_info": {
      "name": "python"
    },
    "accelerator": "GPU"
  },
  "cells": [
    {
      "cell_type": "code",
      "source": [
        "from google.colab import files\n",
        "uploaded = files.upload()"
      ],
      "metadata": {
        "colab": {
          "base_uri": "https://localhost:8080/",
          "height": 79
        },
        "id": "PuOZuXgOFko5",
        "outputId": "a692d04a-c3e4-4446-ef20-d9f433d4cf2a"
      },
      "execution_count": null,
      "outputs": [
        {
          "output_type": "display_data",
          "data": {
            "text/plain": [
              "<IPython.core.display.HTML object>"
            ],
            "text/html": [
              "\n",
              "     <input type=\"file\" id=\"files-c4dee776-4f3b-4b0a-aa71-e3aa840078ff\" name=\"files[]\" multiple disabled\n",
              "        style=\"border:none\" />\n",
              "     <output id=\"result-c4dee776-4f3b-4b0a-aa71-e3aa840078ff\">\n",
              "      Upload widget is only available when the cell has been executed in the\n",
              "      current browser session. Please rerun this cell to enable.\n",
              "      </output>\n",
              "      <script>// Copyright 2017 Google LLC\n",
              "//\n",
              "// Licensed under the Apache License, Version 2.0 (the \"License\");\n",
              "// you may not use this file except in compliance with the License.\n",
              "// You may obtain a copy of the License at\n",
              "//\n",
              "//      http://www.apache.org/licenses/LICENSE-2.0\n",
              "//\n",
              "// Unless required by applicable law or agreed to in writing, software\n",
              "// distributed under the License is distributed on an \"AS IS\" BASIS,\n",
              "// WITHOUT WARRANTIES OR CONDITIONS OF ANY KIND, either express or implied.\n",
              "// See the License for the specific language governing permissions and\n",
              "// limitations under the License.\n",
              "\n",
              "/**\n",
              " * @fileoverview Helpers for google.colab Python module.\n",
              " */\n",
              "(function(scope) {\n",
              "function span(text, styleAttributes = {}) {\n",
              "  const element = document.createElement('span');\n",
              "  element.textContent = text;\n",
              "  for (const key of Object.keys(styleAttributes)) {\n",
              "    element.style[key] = styleAttributes[key];\n",
              "  }\n",
              "  return element;\n",
              "}\n",
              "\n",
              "// Max number of bytes which will be uploaded at a time.\n",
              "const MAX_PAYLOAD_SIZE = 100 * 1024;\n",
              "\n",
              "function _uploadFiles(inputId, outputId) {\n",
              "  const steps = uploadFilesStep(inputId, outputId);\n",
              "  const outputElement = document.getElementById(outputId);\n",
              "  // Cache steps on the outputElement to make it available for the next call\n",
              "  // to uploadFilesContinue from Python.\n",
              "  outputElement.steps = steps;\n",
              "\n",
              "  return _uploadFilesContinue(outputId);\n",
              "}\n",
              "\n",
              "// This is roughly an async generator (not supported in the browser yet),\n",
              "// where there are multiple asynchronous steps and the Python side is going\n",
              "// to poll for completion of each step.\n",
              "// This uses a Promise to block the python side on completion of each step,\n",
              "// then passes the result of the previous step as the input to the next step.\n",
              "function _uploadFilesContinue(outputId) {\n",
              "  const outputElement = document.getElementById(outputId);\n",
              "  const steps = outputElement.steps;\n",
              "\n",
              "  const next = steps.next(outputElement.lastPromiseValue);\n",
              "  return Promise.resolve(next.value.promise).then((value) => {\n",
              "    // Cache the last promise value to make it available to the next\n",
              "    // step of the generator.\n",
              "    outputElement.lastPromiseValue = value;\n",
              "    return next.value.response;\n",
              "  });\n",
              "}\n",
              "\n",
              "/**\n",
              " * Generator function which is called between each async step of the upload\n",
              " * process.\n",
              " * @param {string} inputId Element ID of the input file picker element.\n",
              " * @param {string} outputId Element ID of the output display.\n",
              " * @return {!Iterable<!Object>} Iterable of next steps.\n",
              " */\n",
              "function* uploadFilesStep(inputId, outputId) {\n",
              "  const inputElement = document.getElementById(inputId);\n",
              "  inputElement.disabled = false;\n",
              "\n",
              "  const outputElement = document.getElementById(outputId);\n",
              "  outputElement.innerHTML = '';\n",
              "\n",
              "  const pickedPromise = new Promise((resolve) => {\n",
              "    inputElement.addEventListener('change', (e) => {\n",
              "      resolve(e.target.files);\n",
              "    });\n",
              "  });\n",
              "\n",
              "  const cancel = document.createElement('button');\n",
              "  inputElement.parentElement.appendChild(cancel);\n",
              "  cancel.textContent = 'Cancel upload';\n",
              "  const cancelPromise = new Promise((resolve) => {\n",
              "    cancel.onclick = () => {\n",
              "      resolve(null);\n",
              "    };\n",
              "  });\n",
              "\n",
              "  // Wait for the user to pick the files.\n",
              "  const files = yield {\n",
              "    promise: Promise.race([pickedPromise, cancelPromise]),\n",
              "    response: {\n",
              "      action: 'starting',\n",
              "    }\n",
              "  };\n",
              "\n",
              "  cancel.remove();\n",
              "\n",
              "  // Disable the input element since further picks are not allowed.\n",
              "  inputElement.disabled = true;\n",
              "\n",
              "  if (!files) {\n",
              "    return {\n",
              "      response: {\n",
              "        action: 'complete',\n",
              "      }\n",
              "    };\n",
              "  }\n",
              "\n",
              "  for (const file of files) {\n",
              "    const li = document.createElement('li');\n",
              "    li.append(span(file.name, {fontWeight: 'bold'}));\n",
              "    li.append(span(\n",
              "        `(${file.type || 'n/a'}) - ${file.size} bytes, ` +\n",
              "        `last modified: ${\n",
              "            file.lastModifiedDate ? file.lastModifiedDate.toLocaleDateString() :\n",
              "                                    'n/a'} - `));\n",
              "    const percent = span('0% done');\n",
              "    li.appendChild(percent);\n",
              "\n",
              "    outputElement.appendChild(li);\n",
              "\n",
              "    const fileDataPromise = new Promise((resolve) => {\n",
              "      const reader = new FileReader();\n",
              "      reader.onload = (e) => {\n",
              "        resolve(e.target.result);\n",
              "      };\n",
              "      reader.readAsArrayBuffer(file);\n",
              "    });\n",
              "    // Wait for the data to be ready.\n",
              "    let fileData = yield {\n",
              "      promise: fileDataPromise,\n",
              "      response: {\n",
              "        action: 'continue',\n",
              "      }\n",
              "    };\n",
              "\n",
              "    // Use a chunked sending to avoid message size limits. See b/62115660.\n",
              "    let position = 0;\n",
              "    do {\n",
              "      const length = Math.min(fileData.byteLength - position, MAX_PAYLOAD_SIZE);\n",
              "      const chunk = new Uint8Array(fileData, position, length);\n",
              "      position += length;\n",
              "\n",
              "      const base64 = btoa(String.fromCharCode.apply(null, chunk));\n",
              "      yield {\n",
              "        response: {\n",
              "          action: 'append',\n",
              "          file: file.name,\n",
              "          data: base64,\n",
              "        },\n",
              "      };\n",
              "\n",
              "      let percentDone = fileData.byteLength === 0 ?\n",
              "          100 :\n",
              "          Math.round((position / fileData.byteLength) * 100);\n",
              "      percent.textContent = `${percentDone}% done`;\n",
              "\n",
              "    } while (position < fileData.byteLength);\n",
              "  }\n",
              "\n",
              "  // All done.\n",
              "  yield {\n",
              "    response: {\n",
              "      action: 'complete',\n",
              "    }\n",
              "  };\n",
              "}\n",
              "\n",
              "scope.google = scope.google || {};\n",
              "scope.google.colab = scope.google.colab || {};\n",
              "scope.google.colab._files = {\n",
              "  _uploadFiles,\n",
              "  _uploadFilesContinue,\n",
              "};\n",
              "})(self);\n",
              "</script> "
            ]
          },
          "metadata": {}
        },
        {
          "output_type": "stream",
          "name": "stdout",
          "text": [
            "Saving augmented_dataset-20250317T074401Z-001.zip to augmented_dataset-20250317T074401Z-001.zip\n"
          ]
        }
      ]
    },
    {
      "cell_type": "code",
      "source": [
        "import zipfile\n",
        "import os\n",
        "\n",
        "# Replace the filename with your actual uploaded file name\n",
        "zip_path = \"augmented_dataset_cleaned.zip\"\n",
        "\n",
        "with zipfile.ZipFile(zip_path, 'r') as zip_ref:\n",
        "    zip_ref.extractall(\".\")\n",
        "\n",
        "# Verify extracted folders\n",
        "os.listdir(\"/content\")"
      ],
      "metadata": {
        "colab": {
          "base_uri": "https://localhost:8080/"
        },
        "id": "FTIJ0ZsVFuSC",
        "outputId": "fe87d201-c93a-4bc4-d58d-c7781e8c3f64"
      },
      "execution_count": 2,
      "outputs": [
        {
          "output_type": "execute_result",
          "data": {
            "text/plain": [
              "['.config',\n",
              " 'masks',\n",
              " 'masks_clean',\n",
              " 'images',\n",
              " 'augmented_dataset_cleaned.zip',\n",
              " 'sample_data']"
            ]
          },
          "metadata": {},
          "execution_count": 2
        }
      ]
    },
    {
      "cell_type": "code",
      "source": [
        "#delete augmented_dataset folder fully\n",
        "#import shutil\n",
        "#shutil.rmtree('augmented_dataset')"
      ],
      "metadata": {
        "id": "WQvWiLaa4iq-"
      },
      "execution_count": 1,
      "outputs": []
    },
    {
      "cell_type": "code",
      "source": [
        "import matplotlib.pyplot as plt\n",
        "from PIL import Image\n",
        "import numpy as np\n",
        "\n",
        "# Set your path\n",
        "image_path = 'images/valid/12_11.jpg'\n",
        "mask_path = 'masks/valid/12_11.png'\n",
        "\n",
        "# Load\n",
        "image = Image.open(image_path).convert('RGB')\n",
        "mask = Image.open(mask_path).convert('L')\n",
        "\n",
        "# Display\n",
        "plt.figure(figsize=(10,4))\n",
        "plt.subplot(1,2,1)\n",
        "plt.title(\"Image\")\n",
        "plt.imshow(image)\n",
        "plt.subplot(1,2,2)\n",
        "plt.title(\"Mask\")\n",
        "plt.imshow(mask, cmap='gray')\n",
        "plt.show()"
      ],
      "metadata": {
        "colab": {
          "base_uri": "https://localhost:8080/",
          "height": 324
        },
        "id": "gFnxn8uwFxgt",
        "outputId": "9f065001-8782-4e61-a1fc-06a5136e97db"
      },
      "execution_count": 3,
      "outputs": [
        {
          "output_type": "display_data",
          "data": {
            "text/plain": [
              "<Figure size 1000x400 with 2 Axes>"
            ],
            "image/png": "[encoded data removed]"
          },
          "metadata": {}
        }
      ]
    },
    {
      "cell_type": "markdown",
      "source": [
        "#### FInding unique classes"
      ],
      "metadata": {
        "id": "3-L_bJXQfyrF"
      }
    },
    {
      "cell_type": "code",
      "source": [
        "import numpy as np\n",
        "from sklearn.cluster import KMeans\n",
        "from collections import Counter\n",
        "import matplotlib.pyplot as plt\n",
        "from PIL import Image\n",
        "import os\n",
        "\n",
        "def get_dominant_colors(mask_folder, n_colors=6, sample_size=1000):\n",
        "    \"\"\"\n",
        "    Extract dominant colors from masks using k-means clustering\n",
        "    Returns:\n",
        "        - dominant_colors: List of (R,G,B) tuples\n",
        "        - color_counts: Frequency of each dominant color\n",
        "    \"\"\"\n",
        "    all_pixels = []\n",
        "\n",
        "    # Sample masks to speed up processing\n",
        "    mask_files = [f for f in os.listdir(mask_folder) if f.endswith('.png')]\n",
        "    sample_files = np.random.choice(mask_files, min(sample_size, len(mask_files)), replace=False)\n",
        "\n",
        "    for mask_file in sample_files:\n",
        "        mask = np.array(Image.open(os.path.join(mask_folder, mask_file)))\n",
        "        pixels = mask.reshape(-1, 3)\n",
        "\n",
        "        # Exclude pure black (background)\n",
        "        non_bg_pixels = pixels[~np.all(pixels == [0, 0, 0], axis=1)]\n",
        "        if len(non_bg_pixels) > 0:\n",
        "            all_pixels.extend(non_bg_pixels)\n",
        "\n",
        "    # Convert to numpy array\n",
        "    all_pixels = np.array(all_pixels)\n",
        "\n",
        "    # Perform k-means clustering\n",
        "    kmeans = KMeans(n_clusters=n_colors, random_state=42)\n",
        "    kmeans.fit(all_pixels)\n",
        "\n",
        "    # Get dominant colors and their frequencies\n",
        "    dominant_colors = kmeans.cluster_centers_.astype(int)\n",
        "    color_counts = Counter(kmeans.labels_)\n",
        "\n",
        "    # Sort by frequency (most common first)\n",
        "    sorted_indices = np.argsort([-color_counts[i] for i in range(n_colors)])\n",
        "    dominant_colors = dominant_colors[sorted_indices]\n",
        "\n",
        "    return dominant_colors, color_counts\n",
        "\n",
        "def visualize_dominant_colors(dominant_colors, color_counts):\n",
        "    \"\"\"Visualize the dominant colors with their frequencies\"\"\"\n",
        "    plt.figure(figsize=(12, 3))\n",
        "    total_pixels = sum(color_counts.values())\n",
        "\n",
        "    for i, (color, count) in enumerate(zip(dominant_colors, color_counts.values())):\n",
        "        plt.subplot(1, len(dominant_colors), i+1)\n",
        "        plt.imshow([[color/255]])\n",
        "        plt.axis('off')\n",
        "        plt.title(f\"{count/total_pixels:.1%}\\nRGB{tuple(color)}\")\n",
        "\n",
        "    plt.tight_layout()\n",
        "    plt.show()\n",
        "\n",
        "# Usage\n",
        "mask_folder = \"augmented_dataset/masks/train\"\n",
        "dominant_colors, color_counts = get_dominant_colors(mask_folder, n_colors=6)\n",
        "print(\"Dominant Colors (excluding background):\")\n",
        "for i, color in enumerate(dominant_colors):\n",
        "    print(f\"Class {i+1}: RGB{tuple(color)} - {color_counts[i]} pixels\")\n",
        "\n",
        "visualize_dominant_colors(dominant_colors, color_counts)"
      ],
      "metadata": {
        "colab": {
          "base_uri": "https://localhost:8080/",
          "height": 347
        },
        "id": "19s3p-6keCUw",
        "outputId": "d9d1f4ff-3aa7-42da-858c-dcf75c84c0dc"
      },
      "execution_count": 4,
      "outputs": [
        {
          "output_type": "stream",
          "name": "stdout",
          "text": [
            "Dominant Colors (excluding background):\n",
            "Class 1: RGB(np.int64(254), np.int64(254), np.int64(254)) - 33756473 pixels\n",
            "Class 2: RGB(np.int64(109), np.int64(74), np.int64(38)) - 15046003 pixels\n",
            "Class 3: RGB(np.int64(134), np.int64(205), np.int64(233)) - 9325060 pixels\n",
            "Class 4: RGB(np.int64(127), np.int64(127), np.int64(0)) - 3028656 pixels\n",
            "Class 5: RGB(np.int64(240), np.int64(111), np.int64(9)) - 3049347 pixels\n",
            "Class 6: RGB(np.int64(20), np.int64(18), np.int64(13)) - 702264 pixels\n"
          ]
        },
        {
          "output_type": "display_data",
          "data": {
            "text/plain": [
              "<Figure size 1200x300 with 6 Axes>"
            ],
            "image/png": "[encoded data removed]"
          },
          "metadata": {}
        }
      ]
    },
    {
      "cell_type": "markdown",
      "source": [
        "#### Unique classes"
      ],
      "metadata": {
        "id": "gGXjwVrwfvXk"
      }
    },
    {
      "cell_type": "code",
      "source": [
        "# Based on your results - convert np.int64 to regular integers\n",
        "TARGET_CLASS_COLORS = [\n",
        "    (0, 0, 0),           # 0: Background (pure black)\n",
        "    (254, 254, 254),     # 1: Solid White Line (almost pure white)\n",
        "    (109, 74, 38),       # 2: Brown Markings (e.g., yellow curbs that appear brownish)\n",
        "    (134, 205, 233),     # 3: Light Blue (dashed lines)\n",
        "    (240, 111, 9),       # 4: Orange (centerlines/special markings)\n",
        "    (127, 127, 0),       # 5: Olive (symbols/special markings)\n",
        "    # Note: The last color (20,19,13) is very close to black - likely artifacts\n",
        "]\n",
        "\n",
        "CLASS_NAMES = [\n",
        "    \"Background\",\n",
        "    \"Solid White Line\",\n",
        "    \"Brown Markings\",\n",
        "    \"Dashed Light Blue\",\n",
        "    \"Orange Markings\",\n",
        "    \"Olive Symbols\"\n",
        "]\n",
        "\n",
        "\n",
        "# Create a figure and axes\n",
        "fig, ax = plt.subplots(1, len(TARGET_CLASS_COLORS), figsize=(12, 3))\n",
        "\n",
        "# Plot each class color\n",
        "for i, color in enumerate(TARGET_CLASS_COLORS):\n",
        "    ax[i].imshow([[color]])  # Display the color\n",
        "    ax[i].axis('off')  # Remove axes ticks and labels\n",
        "    ax[i].set_title(f\"{CLASS_NAMES[i]}\\nRGB{color}\")  # Set title with class name and RGB\n",
        "\n",
        "plt.tight_layout()  # Adjust spacing between subplots\n",
        "plt.show()  # Display the figure"
      ],
      "metadata": {
        "colab": {
          "base_uri": "https://localhost:8080/",
          "height": 246
        },
        "id": "CgSimpfafDv7",
        "outputId": "7eaad06c-7c4a-4ef7-e11c-38bc72bfe0a8"
      },
      "execution_count": 5,
      "outputs": [
        {
          "output_type": "display_data",
          "data": {
            "text/plain": [
              "<Figure size 1200x300 with 6 Axes>"
            ],
            "image/png": "[encoded data removed]"
          },
          "metadata": {}
        }
      ]
    },
    {
      "cell_type": "markdown",
      "source": [
        "#### Quantization"
      ],
      "metadata": {
        "id": "LyStkvdFgw9O"
      }
    },
    {
      "cell_type": "code",
      "source": [
        "# Define class-specific tolerances (experiment with these values)\n",
        "CLASS_TOLERANCES = {\n",
        "    0: 5,    # Background - keep strict\n",
        "    1: 10,   # White - allow slight variations\n",
        "    2: 20,   # Brown - more tolerance for color variations\n",
        "    3: 15,   # Light blue\n",
        "    4: 15,   # Orange\n",
        "    5: 20    # Olive\n",
        "}"
      ],
      "metadata": {
        "id": "q4YV4wJAfaQG"
      },
      "execution_count": 6,
      "outputs": []
    },
    {
      "cell_type": "code",
      "source": [
        "def quantize_colors(mask_array, target_colors, tolerances):\n",
        "    \"\"\"\n",
        "    Enhanced quantization with class-specific tolerances\n",
        "    Returns:\n",
        "        quantized: (H,W) array where each pixel contains class index\n",
        "        confidence: (H,W) array with 1.0 = exact match, <1.0 = partial match\n",
        "    \"\"\"\n",
        "    h, w = mask_array.shape[:2]\n",
        "    quantized = np.zeros((h, w), dtype=np.uint8)\n",
        "    confidence = np.zeros((h, w), dtype=np.float32)\n",
        "\n",
        "    # Process classes in reverse order (so more specific classes can override background)\n",
        "    for class_idx in sorted(range(len(target_colors)), key=lambda x: -x):\n",
        "        target_color = np.array(target_colors[class_idx])\n",
        "        distance = np.sqrt(np.sum((mask_array - target_color)**2, axis=2))\n",
        "        tolerance = tolerances[class_idx]\n",
        "\n",
        "        # Create mask for pixels that should be assigned to this class:\n",
        "        # 1. Within tolerance AND\n",
        "        # 2. Either unassigned OR closer than previous assignment\n",
        "        current_class_mask = (distance < tolerance)\n",
        "        unassigned_or_better = np.zeros_like(current_class_mask)\n",
        "\n",
        "        # For each pixel, check if it's unassigned OR if this class is a better match\n",
        "        for i in range(h):\n",
        "            for j in range(w):\n",
        "                if quantized[i,j] == 0:  # Unassigned\n",
        "                    unassigned_or_better[i,j] = True\n",
        "                else:\n",
        "                    # Compare with current assignment\n",
        "                    current_dist = np.sqrt(np.sum((mask_array[i,j] - target_colors[quantized[i,j]])**2))\n",
        "                    unassigned_or_better[i,j] = (distance[i,j] < current_dist)\n",
        "\n",
        "        assign_mask = current_class_mask & unassigned_or_better\n",
        "\n",
        "        # Update the quantization\n",
        "        quantized[assign_mask] = class_idx\n",
        "        confidence[assign_mask] = 1 - (distance[assign_mask] / tolerance)\n",
        "\n",
        "    return quantized, confidence"
      ],
      "metadata": {
        "id": "aNjLB0aviLG3"
      },
      "execution_count": 7,
      "outputs": []
    },
    {
      "cell_type": "code",
      "source": [
        "def quantize_colors(mask_array, target_colors, tolerances):\n",
        "    \"\"\"\n",
        "    Vectorized version of the color quantizer\n",
        "    \"\"\"\n",
        "    h, w = mask_array.shape[:2]\n",
        "    quantized = np.zeros((h, w), dtype=np.uint8)\n",
        "    confidence = np.zeros((h, w), dtype=np.float32)\n",
        "\n",
        "    # Pre-compute all distances\n",
        "    distances = np.zeros((h, w, len(target_colors)))\n",
        "    for i, color in enumerate(target_colors):\n",
        "        distances[:,:,i] = np.sqrt(np.sum((mask_array - color)**2, axis=2))\n",
        "\n",
        "    # Find best class for each pixel\n",
        "    for class_idx in sorted(range(len(target_colors)), key=lambda x: -x):\n",
        "        tolerance = tolerances[class_idx]\n",
        "        class_mask = (distances[:,:,class_idx] < tolerance)\n",
        "\n",
        "        # Pixels that are either:\n",
        "        # 1. Unassigned (quantized == 0) OR\n",
        "        # 2. This class is closer than current assignment\n",
        "        better_mask = (quantized == 0) | (distances[:,:,class_idx] < distances[\n",
        "            np.arange(h)[:,None], np.arange(w), quantized])\n",
        "\n",
        "        assign_mask = class_mask & better_mask\n",
        "\n",
        "        quantized[assign_mask] = class_idx\n",
        "        confidence[assign_mask] = 1 - (distances[:,:,class_idx][assign_mask] / tolerance)\n",
        "\n",
        "    return quantized, confidence"
      ],
      "metadata": {
        "id": "OEt-Y4eqiQ6E"
      },
      "execution_count": 8,
      "outputs": []
    },
    {
      "cell_type": "markdown",
      "source": [
        "#### postprocessing for clean mask"
      ],
      "metadata": {
        "id": "u1HlvQkjgzpb"
      }
    },
    {
      "cell_type": "code",
      "source": [
        "from skimage import morphology\n",
        "from skimage.morphology import remove_small_objects, binary_opening, disk"
      ],
      "metadata": {
        "id": "YUaexhK5i2D6"
      },
      "execution_count": 9,
      "outputs": []
    },
    {
      "cell_type": "code",
      "source": [
        "def clean_quantized_mask(quantized, min_size=100):\n",
        "    cleaned = quantized.copy()\n",
        "\n",
        "    # Process each class (except background)\n",
        "    for class_idx in range(1, len(TARGET_CLASS_COLORS)):\n",
        "        # Create binary mask for this class\n",
        "        class_mask = (quantized == class_idx)\n",
        "\n",
        "        # Remove small objects\n",
        "        cleaned_class = remove_small_objects(class_mask, min_size=min_size)\n",
        "\n",
        "        # Smooth edges\n",
        "        cleaned_class = binary_opening(cleaned_class, footprint=disk(1))\n",
        "\n",
        "        # Update cleaned mask\n",
        "        cleaned[class_mask] = 0  # Remove original\n",
        "        cleaned[cleaned_class] = class_idx  # Add cleaned\n",
        "\n",
        "    return cleaned"
      ],
      "metadata": {
        "id": "3HaIn8WmgvZO"
      },
      "execution_count": 10,
      "outputs": []
    },
    {
      "cell_type": "code",
      "source": [
        "def verify_with_samples(mask_folder, num_samples=3):\n",
        "    mask_files = [f for f in os.listdir(mask_folder) if f.endswith('.png')]\n",
        "    samples = np.random.choice(mask_files, min(num_samples, len(mask_files)), replace=False)\n",
        "\n",
        "    for mask_file in samples:\n",
        "        print(f\"\\nVerifying: {mask_file}\")\n",
        "        original = np.array(Image.open(os.path.join(mask_folder, mask_file)))\n",
        "\n",
        "        try:\n",
        "            quantized, confidence = quantize_colors(original, TARGET_CLASS_COLORS, CLASS_TOLERANCES)\n",
        "            cleaned = clean_quantized_mask(quantized)\n",
        "\n",
        "            # Visualization\n",
        "            fig, axes = plt.subplots(1, 4, figsize=(16, 5))\n",
        "\n",
        "            # Original\n",
        "            axes[0].imshow(original)\n",
        "            axes[0].set_title(\"Original Mask\")\n",
        "\n",
        "            # Quantized\n",
        "            quant_rgb = np.zeros_like(original)\n",
        "            for i, color in enumerate(TARGET_CLASS_COLORS):\n",
        "                quant_rgb[quantized == i] = color\n",
        "            axes[1].imshow(quant_rgb/255)\n",
        "            axes[1].set_title(\"Quantized\")\n",
        "\n",
        "            # Confidence\n",
        "            axes[2].imshow(confidence, cmap='viridis', vmin=0, vmax=1)\n",
        "            axes[2].set_title(\"Confidence Map\")\n",
        "\n",
        "            # Cleaned\n",
        "            clean_rgb = np.zeros_like(original)\n",
        "            for i, color in enumerate(TARGET_CLASS_COLORS):\n",
        "                clean_rgb[cleaned == i] = color\n",
        "            axes[3].imshow(clean_rgb/255)\n",
        "            axes[3].set_title(\"After Cleaning\")\n",
        "\n",
        "            for ax in axes:\n",
        "                ax.axis('off')\n",
        "            plt.tight_layout()\n",
        "            plt.show()\n",
        "\n",
        "        except Exception as e:\n",
        "            print(f\"Error processing {mask_file}: {str(e)}\")\n",
        "            continue\n",
        "\n",
        "# Run verification\n",
        "verify_with_samples(\"augmented_dataset/masks/train\")"
      ],
      "metadata": {
        "colab": {
          "base_uri": "https://localhost:8080/",
          "height": 703
        },
        "id": "qaOepttPg31V",
        "outputId": "cc501182-383b-48f9-9a28-e6e0cefd823e"
      },
      "execution_count": 11,
      "outputs": [
        {
          "output_type": "stream",
          "name": "stdout",
          "text": [
            "\n",
            "Verifying: h_13_55_96.png\n"
          ]
        },
        {
          "output_type": "display_data",
          "data": {
            "text/plain": [
              "<Figure size 1600x500 with 4 Axes>"
            ],
            "image/png": "[encoded data removed]"
          },
          "metadata": {}
        },
        {
          "output_type": "stream",
          "name": "stdout",
          "text": [
            "\n",
            "Verifying: v_8_56.png\n"
          ]
        },
        {
          "output_type": "display_data",
          "data": {
            "text/plain": [
              "<Figure size 1600x500 with 4 Axes>"
            ],
            "image/png": "[encoded data removed]"
          },
          "metadata": {}
        },
        {
          "output_type": "stream",
          "name": "stdout",
          "text": [
            "\n",
            "Verifying: h_13_55_69.png\n"
          ]
        },
        {
          "output_type": "display_data",
          "data": {
            "text/plain": [
              "<Figure size 1600x500 with 4 Axes>"
            ],
            "image/png": "[encoded data removed]"
          },
          "metadata": {}
        }
      ]
    },
    {
      "cell_type": "markdown",
      "source": [
        "#### Model"
      ],
      "metadata": {
        "id": "3CRnfdnMwGE8"
      }
    },
    {
      "cell_type": "code",
      "source": [
        "import os\n",
        "import numpy as np\n",
        "from PIL import Image\n",
        "from skimage.morphology import remove_small_objects, binary_opening, disk\n",
        "from tqdm import tqdm\n",
        "\n",
        "# === YOUR DEFINED COLORS ===\n",
        "TARGET_CLASS_COLORS = [\n",
        "    (0, 0, 0),           # 0: Background\n",
        "    (254, 254, 254),     # 1: Solid White Line\n",
        "    (109, 74, 38),       # 2: Brown Markings\n",
        "    (134, 205, 233),     # 3: Dashed Light Blue\n",
        "    (240, 111, 9),       # 4: Orange Markings\n",
        "    (127, 127, 0),       # 5: Olive Symbols\n",
        "]\n",
        "\n",
        "CLASS_TOLERANCES = {\n",
        "    0: 5,\n",
        "    1: 10,\n",
        "    2: 20,\n",
        "    3: 15,\n",
        "    4: 15,\n",
        "    5: 20\n",
        "}\n",
        "\n",
        "# === QUANTIZER (returns class index per pixel) ===\n",
        "def quantize_colors(mask_array, target_colors, tolerances):\n",
        "    h, w = mask_array.shape[:2]\n",
        "    quantized = np.zeros((h, w), dtype=np.uint8)\n",
        "\n",
        "    distances = np.zeros((h, w, len(target_colors)))\n",
        "    for i, color in enumerate(target_colors):\n",
        "        distances[:, :, i] = np.sqrt(np.sum((mask_array - color)**2, axis=2))\n",
        "\n",
        "    for class_idx in sorted(range(len(target_colors)), key=lambda x: -x):\n",
        "        tolerance = tolerances[class_idx]\n",
        "        class_mask = (distances[:, :, class_idx] < tolerance)\n",
        "\n",
        "        better_mask = (quantized == 0) | (distances[:, :, class_idx] < distances[np.arange(h)[:, None], np.arange(w), quantized])\n",
        "        assign_mask = class_mask & better_mask\n",
        "\n",
        "        quantized[assign_mask] = class_idx\n",
        "\n",
        "    return quantized\n",
        "\n",
        "# === OPTIONAL CLEANING (denoise & smooth) ===\n",
        "def clean_quantized_mask(quantized, min_size=100):\n",
        "    cleaned = quantized.copy()\n",
        "    for class_idx in range(1, len(TARGET_CLASS_COLORS)):\n",
        "        class_mask = (quantized == class_idx)\n",
        "        cleaned_class = remove_small_objects(class_mask, min_size=min_size)\n",
        "        cleaned_class = binary_opening(cleaned_class, footprint=disk(1))\n",
        "        cleaned[class_mask] = 0\n",
        "        cleaned[cleaned_class] = class_idx\n",
        "    return cleaned\n",
        "\n",
        "# === RECOLOR TO RGB ===\n",
        "def class_idx_to_rgb(mask_array, target_colors):\n",
        "    h, w = mask_array.shape\n",
        "    rgb_mask = np.zeros((h, w, 3), dtype=np.uint8)\n",
        "    for i, color in enumerate(target_colors):\n",
        "        rgb_mask[mask_array == i] = color\n",
        "    return rgb_mask\n",
        "\n",
        "# === MAIN BATCH PROCESSOR ===\n",
        "def process_mask_folder(input_folder, output_folder):\n",
        "    os.makedirs(output_folder, exist_ok=True)\n",
        "    mask_files = [f for f in os.listdir(input_folder) if f.endswith('.png')]\n",
        "\n",
        "    for fname in tqdm(mask_files, desc=f\"Processing masks in {input_folder}\"):\n",
        "        try:\n",
        "            img_path = os.path.join(input_folder, fname)\n",
        "            out_path = os.path.join(output_folder, fname)\n",
        "\n",
        "            raw_mask = np.array(Image.open(img_path).convert('RGB'))\n",
        "\n",
        "            quantized = quantize_colors(raw_mask, TARGET_CLASS_COLORS, CLASS_TOLERANCES)\n",
        "            cleaned = clean_quantized_mask(quantized)\n",
        "            rgb_mask = class_idx_to_rgb(cleaned, TARGET_CLASS_COLORS)\n",
        "\n",
        "            Image.fromarray(rgb_mask).save(out_path)\n",
        "\n",
        "        except Exception as e:\n",
        "            print(f\"Failed on {fname}: {str(e)}\")\n"
      ],
      "metadata": {
        "id": "QVmU7cvscH98"
      },
      "execution_count": 12,
      "outputs": []
    },
    {
      "cell_type": "code",
      "source": [
        "process_mask_folder(\"augmented_dataset/masks/train\", \"augmented_dataset/masks_clean/train\")"
      ],
      "metadata": {
        "colab": {
          "base_uri": "https://localhost:8080/",
          "height": 328
        },
        "id": "jE-hzgdx4P1g",
        "outputId": "5702f827-4306-4e66-c57b-4437af03f6fb"
      },
      "execution_count": 13,
      "outputs": [
        {
          "output_type": "stream",
          "name": "stderr",
          "text": [
            "Processing masks in augmented_dataset/masks/train: 100%|██████████| 1500/1500 [10:18<00:00,  2.42it/s]\n"
          ]
        },
        {
          "output_type": "error",
          "ename": "FileNotFoundError",
          "evalue": "[Errno 2] No such file or directory: 'augmented_dataset/masks/val'",
          "traceback": [
            "\u001b[0;31m---------------------------------------------------------------------------\u001b[0m",
            "\u001b[0;31mFileNotFoundError\u001b[0m                         Traceback (most recent call last)",
            "\u001b[0;32m<ipython-input-13-9e2658e158e1>\u001b[0m in \u001b[0;36m<cell line: 0>\u001b[0;34m()\u001b[0m\n\u001b[1;32m      1\u001b[0m \u001b[0mprocess_mask_folder\u001b[0m\u001b[0;34m(\u001b[0m\u001b[0;34m\"augmented_dataset/masks/train\"\u001b[0m\u001b[0;34m,\u001b[0m \u001b[0;34m\"augmented_dataset/masks_clean/train\"\u001b[0m\u001b[0;34m)\u001b[0m\u001b[0;34m\u001b[0m\u001b[0;34m\u001b[0m\u001b[0m\n\u001b[0;32m----> 2\u001b[0;31m \u001b[0mprocess_mask_folder\u001b[0m\u001b[0;34m(\u001b[0m\u001b[0;34m\"augmented_dataset/masks/val\"\u001b[0m\u001b[0;34m,\u001b[0m \u001b[0;34m\"augmented_dataset/masks_clean/val\"\u001b[0m\u001b[0;34m)\u001b[0m\u001b[0;34m\u001b[0m\u001b[0;34m\u001b[0m\u001b[0m\n\u001b[0m",
            "\u001b[0;32m<ipython-input-12-0d2ba8ae20c4>\u001b[0m in \u001b[0;36mprocess_mask_folder\u001b[0;34m(input_folder, output_folder)\u001b[0m\n\u001b[1;32m     66\u001b[0m \u001b[0;32mdef\u001b[0m \u001b[0mprocess_mask_folder\u001b[0m\u001b[0;34m(\u001b[0m\u001b[0minput_folder\u001b[0m\u001b[0;34m,\u001b[0m \u001b[0moutput_folder\u001b[0m\u001b[0;34m)\u001b[0m\u001b[0;34m:\u001b[0m\u001b[0;34m\u001b[0m\u001b[0;34m\u001b[0m\u001b[0m\n\u001b[1;32m     67\u001b[0m     \u001b[0mos\u001b[0m\u001b[0;34m.\u001b[0m\u001b[0mmakedirs\u001b[0m\u001b[0;34m(\u001b[0m\u001b[0moutput_folder\u001b[0m\u001b[0;34m,\u001b[0m \u001b[0mexist_ok\u001b[0m\u001b[0;34m=\u001b[0m\u001b[0;32mTrue\u001b[0m\u001b[0;34m)\u001b[0m\u001b[0;34m\u001b[0m\u001b[0;34m\u001b[0m\u001b[0m\n\u001b[0;32m---> 68\u001b[0;31m     \u001b[0mmask_files\u001b[0m \u001b[0;34m=\u001b[0m \u001b[0;34m[\u001b[0m\u001b[0mf\u001b[0m \u001b[0;32mfor\u001b[0m \u001b[0mf\u001b[0m \u001b[0;32min\u001b[0m \u001b[0mos\u001b[0m\u001b[0;34m.\u001b[0m\u001b[0mlistdir\u001b[0m\u001b[0;34m(\u001b[0m\u001b[0minput_folder\u001b[0m\u001b[0;34m)\u001b[0m \u001b[0;32mif\u001b[0m \u001b[0mf\u001b[0m\u001b[0;34m.\u001b[0m\u001b[0mendswith\u001b[0m\u001b[0;34m(\u001b[0m\u001b[0;34m'.png'\u001b[0m\u001b[0;34m)\u001b[0m\u001b[0;34m]\u001b[0m\u001b[0;34m\u001b[0m\u001b[0;34m\u001b[0m\u001b[0m\n\u001b[0m\u001b[1;32m     69\u001b[0m \u001b[0;34m\u001b[0m\u001b[0m\n\u001b[1;32m     70\u001b[0m     \u001b[0;32mfor\u001b[0m \u001b[0mfname\u001b[0m \u001b[0;32min\u001b[0m \u001b[0mtqdm\u001b[0m\u001b[0;34m(\u001b[0m\u001b[0mmask_files\u001b[0m\u001b[0;34m,\u001b[0m \u001b[0mdesc\u001b[0m\u001b[0;34m=\u001b[0m\u001b[0;34mf\"Processing masks in {input_folder}\"\u001b[0m\u001b[0;34m)\u001b[0m\u001b[0;34m:\u001b[0m\u001b[0;34m\u001b[0m\u001b[0;34m\u001b[0m\u001b[0m\n",
            "\u001b[0;31mFileNotFoundError\u001b[0m: [Errno 2] No such file or directory: 'augmented_dataset/masks/val'"
          ]
        }
      ]
    },
    {
      "cell_type": "code",
      "source": [
        "process_mask_folder(\"augmented_dataset/masks/valid\", \"augmented_dataset/masks_clean/val\")"
      ],
      "metadata": {
        "colab": {
          "base_uri": "https://localhost:8080/"
        },
        "id": "MSajMvG54RHW",
        "outputId": "602599a9-5146-428d-9071-cbccf8ab0a09"
      },
      "execution_count": 16,
      "outputs": [
        {
          "output_type": "stream",
          "name": "stderr",
          "text": [
            "Processing masks in augmented_dataset/masks/valid: 100%|██████████| 171/171 [01:09<00:00,  2.44it/s]\n"
          ]
        }
      ]
    },
    {
      "cell_type": "code",
      "source": [
        "process_mask_folder(\"augmented_dataset/masks/test\", \"augmented_dataset/masks_clean/test\")"
      ],
      "metadata": {
        "colab": {
          "base_uri": "https://localhost:8080/"
        },
        "id": "B2O4f66d76qM",
        "outputId": "a136df7f-c619-4889-b7dd-286d139f279d"
      },
      "execution_count": 17,
      "outputs": [
        {
          "output_type": "stream",
          "name": "stderr",
          "text": [
            "Processing masks in augmented_dataset/masks/test: 100%|██████████| 300/300 [02:02<00:00,  2.46it/s]\n"
          ]
        }
      ]
    },
    {
      "cell_type": "markdown",
      "source": [
        "#### zipping data with cleaned masks"
      ],
      "metadata": {
        "id": "UYI_fYz09AVc"
      }
    },
    {
      "cell_type": "code",
      "source": [
        "import shutil\n",
        "\n",
        "# Zip the whole folder (including cleaned masks inside it)\n",
        "shutil.make_archive(\"augmented_dataset_cleaned\", 'zip', \"augmented_dataset\")\n"
      ],
      "metadata": {
        "colab": {
          "base_uri": "https://localhost:8080/",
          "height": 36
        },
        "id": "dpK42PQK8QgW",
        "outputId": "b961024b-39b0-4dc4-c76d-67e8c9246de9"
      },
      "execution_count": 18,
      "outputs": [
        {
          "output_type": "execute_result",
          "data": {
            "text/plain": [
              "'/content/augmented_dataset_cleaned.zip'"
            ],
            "application/vnd.google.colaboratory.intrinsic+json": {
              "type": "string"
            }
          },
          "metadata": {},
          "execution_count": 18
        }
      ]
    },
    {
      "cell_type": "markdown",
      "source": [
        "#### Check missing masks"
      ],
      "metadata": {
        "id": "C_0Kwy13AAaX"
      }
    },
    {
      "cell_type": "code",
      "source": [
        "import shutil\n",
        "from pathlib import Path\n",
        "\n",
        "# Delete both directories and their contents\n",
        "img_dir = Path(\"images\")\n",
        "mask_dir = Path(\"masks_clean\")\n",
        "\n",
        "if img_dir.exists():\n",
        "    shutil.rmtree(img_dir)\n",
        "    print(f\"Deleted: {img_dir}\")\n",
        "\n",
        "if mask_dir.exists():\n",
        "    shutil.rmtree(mask_dir)\n",
        "    print(f\"Deleted: {mask_dir}\")"
      ],
      "metadata": {
        "colab": {
          "base_uri": "https://localhost:8080/"
        },
        "id": "GUyf3rP8Cbu7",
        "outputId": "83f81bdb-9d0e-4bca-fec4-7b0a0fead739"
      },
      "execution_count": 16,
      "outputs": [
        {
          "output_type": "stream",
          "name": "stdout",
          "text": [
            "Deleted: images\n",
            "Deleted: masks_clean\n"
          ]
        }
      ]
    },
    {
      "cell_type": "code",
      "source": [
        "from pathlib import Path\n",
        "\n",
        "# Rename 'val' folder to 'valid'\n",
        "val_folder = Path(\"masks_clean/val\")\n",
        "valid_folder = Path(\"masks_clean/valid\")\n",
        "\n",
        "val_folder.rename(valid_folder)\n"
      ],
      "metadata": {
        "colab": {
          "base_uri": "https://localhost:8080/"
        },
        "id": "0osqelOODRNr",
        "outputId": "efef11c1-c52b-4f44-d0de-44cc539a2094"
      },
      "execution_count": 3,
      "outputs": [
        {
          "output_type": "execute_result",
          "data": {
            "text/plain": [
              "PosixPath('masks_clean/valid')"
            ]
          },
          "metadata": {},
          "execution_count": 3
        }
      ]
    },
    {
      "cell_type": "code",
      "source": [
        "import os\n",
        "import shutil\n",
        "\n",
        "# Define paths for images and masks in all folders (train, valid, test)\n",
        "image_folders = [\"images/train\", \"images/valid\", \"images/test\"]\n",
        "mask_folders = [\"masks_clean/train\", \"masks_clean/valid\", \"masks_clean/test\"]\n",
        "\n",
        "def clean_folders(image_dir, mask_dir):\n",
        "    print(f\"\\nCleaning folder pair: {image_dir} and {mask_dir}\")\n",
        "\n",
        "    # Check if folders exist\n",
        "    if not os.path.exists(image_dir):\n",
        "        print(f\"Warning: Image directory {image_dir} does not exist!\")\n",
        "        return\n",
        "    if not os.path.exists(mask_dir):\n",
        "        print(f\"Warning: Mask directory {mask_dir} does not exist!\")\n",
        "        return\n",
        "\n",
        "    # Get all files in directories\n",
        "    all_image_files = os.listdir(image_dir)\n",
        "    all_mask_files = os.listdir(mask_dir)\n",
        "\n",
        "    # Step 1: Remove non-jpg files from image folder\n",
        "    for file in all_image_files:\n",
        "        file_path = os.path.join(image_dir, file)\n",
        "        if os.path.isfile(file_path) and not file.lower().endswith('.jpg'):\n",
        "            os.remove(file_path)\n",
        "            print(f\"Deleted non-jpg image: {file_path}\")\n",
        "\n",
        "    # Step 2: Remove non-png files from mask folder\n",
        "    for file in all_mask_files:\n",
        "        file_path = os.path.join(mask_dir, file)\n",
        "        if os.path.isfile(file_path) and not file.lower().endswith('.png'):\n",
        "            os.remove(file_path)\n",
        "            print(f\"Deleted non-png mask: {file_path}\")\n",
        "\n",
        "    # Re-scan directories after removing incorrect file types\n",
        "    image_files = [f for f in os.listdir(image_dir) if f.lower().endswith('.jpg')]\n",
        "    mask_files = [f for f in os.listdir(mask_dir) if f.lower().endswith('.png')]\n",
        "\n",
        "    # Extract base names without extensions\n",
        "    image_bases = set([os.path.splitext(f)[0] for f in image_files])\n",
        "    mask_bases = set([os.path.splitext(f)[0] for f in mask_files])\n",
        "\n",
        "    # Find mismatches\n",
        "    missing_masks = image_bases - mask_bases  # Images without masks\n",
        "    extra_masks = mask_bases - image_bases  # Masks without images\n",
        "\n",
        "    # Delete images without corresponding masks\n",
        "    for missing in missing_masks:\n",
        "        image_path = os.path.join(image_dir, f\"{missing}.jpg\")\n",
        "        if os.path.exists(image_path):\n",
        "            os.remove(image_path)\n",
        "            print(f\"Deleted image (no mask): {image_path}\")\n",
        "\n",
        "    # Delete masks without corresponding images\n",
        "    for extra in extra_masks:\n",
        "        mask_path = os.path.join(mask_dir, f\"{extra}.png\")\n",
        "        if os.path.exists(mask_path):\n",
        "            os.remove(mask_path)\n",
        "            print(f\"Deleted mask (no image): {mask_path}\")\n",
        "\n",
        "    # Final count after cleanup\n",
        "    remaining_images = len([f for f in os.listdir(image_dir) if f.lower().endswith('.jpg')])\n",
        "    remaining_masks = len([f for f in os.listdir(mask_dir) if f.lower().endswith('.png')])\n",
        "\n",
        "    # Additional logging to inform about the cleanup\n",
        "    print(f\"Cleaned folder: {image_dir} and {mask_dir}\")\n",
        "    print(f\"Images removed due to no mask: {len(missing_masks)}\")\n",
        "    print(f\"Masks removed due to no image: {len(extra_masks)}\")\n",
        "    print(f\"Remaining images: {remaining_images}\")\n",
        "    print(f\"Remaining masks: {remaining_masks}\")\n",
        "\n",
        "    # Verify match\n",
        "    if remaining_images == remaining_masks:\n",
        "        print(f\"✓ SUCCESS: The number of images and masks match ({remaining_images}).\")\n",
        "    else:\n",
        "        print(f\"⚠ WARNING: Mismatch in final count! Images: {remaining_images}, Masks: {remaining_masks}\")\n",
        "\n",
        "def main():\n",
        "    print(\"Starting dataset cleanup process...\")\n",
        "\n",
        "    # Create a backup (optional)\n",
        "    should_backup = input(\"Would you like to create a backup before cleaning? (y/n): \").lower() == 'y'\n",
        "\n",
        "    if should_backup:\n",
        "        try:\n",
        "            print(\"Creating backup...\")\n",
        "            if not os.path.exists(\"backup\"):\n",
        "                os.makedirs(\"backup\")\n",
        "            if os.path.exists(\"images\"):\n",
        "                shutil.copytree(\"images\", \"backup/images\", dirs_exist_ok=True)\n",
        "            if os.path.exists(\"masks_clean\"):\n",
        "                shutil.copytree(\"masks_clean\", \"backup/masks_clean\", dirs_exist_ok=True)\n",
        "            print(\"Backup created in 'backup' folder.\")\n",
        "        except Exception as e:\n",
        "            print(f\"Backup failed: {e}\")\n",
        "            proceed = input(\"Continue without backup? (y/n): \").lower() == 'y'\n",
        "            if not proceed:\n",
        "                print(\"Cleanup aborted.\")\n",
        "                return\n",
        "\n",
        "    # Clean all 6 folders\n",
        "    for img_folder, mask_folder in zip(image_folders, mask_folders):\n",
        "        clean_folders(img_folder, mask_folder)\n",
        "\n",
        "    print(\"\\nFull cleanup complete across all folders.\")\n",
        "\n",
        "    # Final verification\n",
        "    print(\"\\nVerifying consistency across all folders...\")\n",
        "    all_consistent = True\n",
        "    for img_folder, mask_folder in zip(image_folders, mask_folders):\n",
        "        if not os.path.exists(img_folder) or not os.path.exists(mask_folder):\n",
        "            print(f\"Cannot verify {img_folder} and {mask_folder} - one or both directories don't exist\")\n",
        "            continue\n",
        "\n",
        "        img_count = len([f for f in os.listdir(img_folder) if f.lower().endswith('.jpg')])\n",
        "        mask_count = len([f for f in os.listdir(mask_folder) if f.lower().endswith('.png')])\n",
        "\n",
        "        if img_count == mask_count:\n",
        "            print(f\"✓ {img_folder} and {mask_folder}: Match ({img_count} files each)\")\n",
        "        else:\n",
        "            print(f\"⚠ {img_folder} and {mask_folder}: Mismatch! ({img_count} images, {mask_count} masks)\")\n",
        "            all_consistent = False\n",
        "\n",
        "    if all_consistent:\n",
        "        print(\"\\nAll folders are now consistent and cleaned!\")\n",
        "    else:\n",
        "        print(\"\\nWarning: Some folders still have inconsistencies.\")\n",
        "\n",
        "if __name__ == \"__main__\":\n",
        "    main()"
      ],
      "metadata": {
        "colab": {
          "base_uri": "https://localhost:8080/"
        },
        "id": "So4Od8WpC7ni",
        "outputId": "75786885-14fb-42be-842e-d027045ccea5"
      },
      "execution_count": 4,
      "outputs": [
        {
          "output_type": "stream",
          "name": "stdout",
          "text": [
            "Starting dataset cleanup process...\n",
            "Would you like to create a backup before cleaning? (y/n): n\n",
            "\n",
            "Cleaning folder pair: images/train and masks_clean/train\n",
            "Deleted image (no mask): images/train/v_8_62.jpg\n",
            "Deleted image (no mask): images/train/8_62.jpg\n",
            "Deleted image (no mask): images/train/4_90.jpg\n",
            "Deleted mask (no image): masks_clean/train/8_63.png\n",
            "Deleted mask (no image): masks_clean/train/v_8_63.png\n",
            "Deleted mask (no image): masks_clean/train/4_26.png\n",
            "Cleaned folder: images/train and masks_clean/train\n",
            "Images removed due to no mask: 3\n",
            "Masks removed due to no image: 3\n",
            "Remaining images: 1497\n",
            "Remaining masks: 1497\n",
            "✓ SUCCESS: The number of images and masks match (1497).\n",
            "\n",
            "Cleaning folder pair: images/valid and masks_clean/valid\n",
            "Deleted image (no mask): images/valid/h_8_36.jpg\n",
            "Deleted image (no mask): images/valid/4_26.jpg\n",
            "Deleted mask (no image): masks_clean/valid/h_8_42.png\n",
            "Deleted mask (no image): masks_clean/valid/4_90.png\n",
            "Cleaned folder: images/valid and masks_clean/valid\n",
            "Images removed due to no mask: 2\n",
            "Masks removed due to no image: 2\n",
            "Remaining images: 169\n",
            "Remaining masks: 169\n",
            "✓ SUCCESS: The number of images and masks match (169).\n",
            "\n",
            "Cleaning folder pair: images/test and masks_clean/test\n",
            "Cleaned folder: images/test and masks_clean/test\n",
            "Images removed due to no mask: 0\n",
            "Masks removed due to no image: 0\n",
            "Remaining images: 300\n",
            "Remaining masks: 300\n",
            "✓ SUCCESS: The number of images and masks match (300).\n",
            "\n",
            "Full cleanup complete across all folders.\n",
            "\n",
            "Verifying consistency across all folders...\n",
            "✓ images/train and masks_clean/train: Match (1497 files each)\n",
            "✓ images/valid and masks_clean/valid: Match (169 files each)\n",
            "✓ images/test and masks_clean/test: Match (300 files each)\n",
            "\n",
            "All folders are now consistent and cleaned!\n"
          ]
        }
      ]
    },
    {
      "cell_type": "code",
      "source": [
        "import os\n",
        "from pathlib import Path\n",
        "\n",
        "def check_files(image_dir, mask_dir):\n",
        "    image_files = set([os.path.splitext(f)[0] for f in os.listdir(image_dir) if f.endswith(('.jpg', '.png'))])\n",
        "    mask_files = set([os.path.splitext(f)[0] for f in os.listdir(mask_dir) if f.endswith(('.jpg', '.png'))])\n",
        "\n",
        "    missing_masks = image_files - mask_files\n",
        "    extra_masks = mask_files - image_files\n",
        "\n",
        "    if missing_masks:\n",
        "        print(f\"Missing masks for images: {missing_masks}\")\n",
        "    if extra_masks:\n",
        "        print(f\"Extra masks without images: {extra_masks}\")\n",
        "\n",
        "    return missing_masks, extra_masks\n",
        "\n",
        "# Check files in train and valid directories\n",
        "missing_train, extra_train = check_files(\"images/train\", \"masks_clean/train\")\n",
        "missing_valid, extra_valid = check_files(\"images/valid\", \"masks_clean/valid\")\n",
        "\n",
        "# This will tell you which files are still mismatched before you start training\n"
      ],
      "metadata": {
        "id": "5qqIwdCKE44j"
      },
      "execution_count": 5,
      "outputs": []
    },
    {
      "cell_type": "code",
      "source": [
        "import os\n",
        "import torch\n",
        "import torch.nn as nn\n",
        "from torch.utils.data import DataLoader, Dataset\n",
        "from torchvision import transforms\n",
        "from torchvision.transforms import functional as TF\n",
        "from PIL import Image\n",
        "import numpy as np\n",
        "import matplotlib.pyplot as plt\n",
        "from tqdm import tqdm\n",
        "import random\n",
        "\n",
        "# Define class colors (from your code)\n",
        "TARGET_CLASS_COLORS = [\n",
        "    (0, 0, 0),           # 0: Background (pure black)\n",
        "    (254, 254, 254),     # 1: Solid White Line (almost pure white)\n",
        "    (109, 74, 38),       # 2: Brown Markings (e.g., yellow curbs that appear brownish)\n",
        "    (134, 205, 233),     # 3: Light Blue (dashed lines)\n",
        "    (240, 111, 9),       # 4: Orange Markings (centerlines/special markings)\n",
        "    (127, 127, 0),       # 5: Olive Symbols (symbols/special markings)\n",
        "]\n",
        "\n",
        "# Parameters\n",
        "NUM_CLASSES = len(TARGET_CLASS_COLORS)  # Should be 6\n",
        "IMAGE_SIZE = (256, 256)\n",
        "BATCH_SIZE = 4  # Reduced from 8 to avoid memory issues\n",
        "EPOCHS = 20\n",
        "LEARNING_RATE = 1e-3\n",
        "DEVICE = torch.device(\"cuda\" if torch.cuda.is_available() else \"cpu\")\n",
        "RANDOM_SEED = 42\n",
        "MODEL_SAVE_PATH = \"best_unet_model.pt\"\n",
        "\n",
        "# Set random seeds for reproducibility\n",
        "torch.manual_seed(RANDOM_SEED)\n",
        "np.random.seed(RANDOM_SEED)\n",
        "random.seed(RANDOM_SEED)\n",
        "if torch.cuda.is_available():\n",
        "    torch.cuda.manual_seed(RANDOM_SEED)\n",
        "    torch.backends.cudnn.deterministic = True\n",
        "\n",
        "# For better debugging\n",
        "import os\n",
        "os.environ[\"CUDA_LAUNCH_BLOCKING\"] = \"1\"\n",
        "\n",
        "# Custom transformations\n",
        "class SegmentationTransforms:\n",
        "    def __init__(self, is_train=True):\n",
        "        self.is_train = is_train\n",
        "\n",
        "    def __call__(self, image, mask):\n",
        "        # Resize\n",
        "        image = image.resize(IMAGE_SIZE, Image.BILINEAR)\n",
        "        mask = mask.resize(IMAGE_SIZE, Image.NEAREST)  # Important: use NEAREST for masks\n",
        "\n",
        "        # Data augmentation only for training\n",
        "        if self.is_train and random.random() > 0.5:\n",
        "            # Random horizontal flip\n",
        "            if random.random() > 0.5:\n",
        "                image = TF.hflip(image)\n",
        "                mask = TF.hflip(mask)\n",
        "\n",
        "            # Random rotation\n",
        "            if random.random() > 0.5:\n",
        "                angle = random.randint(-30, 30)\n",
        "                image = TF.rotate(image, angle, fill=0)\n",
        "                mask = TF.rotate(mask, angle, fill=0)\n",
        "\n",
        "        # Convert to tensor\n",
        "        image = TF.to_tensor(image)\n",
        "\n",
        "        # Normalize image\n",
        "        image = TF.normalize(image, [0.485, 0.456, 0.406], [0.229, 0.224, 0.225])\n",
        "\n",
        "        # Convert mask to numpy and then to class indices\n",
        "        mask_np = np.array(mask)\n",
        "        class_mask = np.zeros((mask_np.shape[0], mask_np.shape[1]), dtype=np.int64)\n",
        "\n",
        "        # Map each RGB color to its class index with tolerance\n",
        "        for class_idx, color in enumerate(TARGET_CLASS_COLORS):\n",
        "            # Distance-based color matching with tolerance\n",
        "            if len(mask_np.shape) == 3:  # RGB mask\n",
        "                color_distance = np.sqrt(np.sum((mask_np - color)**2, axis=2))\n",
        "                color_mask = color_distance < 30  # Tolerance for compression artifacts\n",
        "                class_mask[color_mask] = class_idx\n",
        "\n",
        "        mask = torch.tensor(class_mask, dtype=torch.long)\n",
        "        return image, mask\n",
        "\n",
        "# Dataset\n",
        "class SegmentationDataset(Dataset):\n",
        "    def __init__(self, image_dir, mask_dir, transform=True, is_train=True):\n",
        "        self.image_dir = image_dir\n",
        "        self.mask_dir = mask_dir\n",
        "        self.transform = transform\n",
        "        self.is_train = is_train\n",
        "\n",
        "        # Get all image files\n",
        "        self.images = [f for f in sorted(os.listdir(image_dir)) if f.lower().endswith('.jpg')]\n",
        "\n",
        "        # Verify images have corresponding masks\n",
        "        self.valid_images = []\n",
        "        for img_name in self.images:\n",
        "            mask_name = os.path.splitext(img_name)[0] + \".png\"\n",
        "            if os.path.exists(os.path.join(mask_dir, mask_name)):\n",
        "                self.valid_images.append(img_name)\n",
        "            else:\n",
        "                print(f\"Warning: No mask found for {img_name}\")\n",
        "\n",
        "        print(f\"Found {len(self.valid_images)} valid image-mask pairs in {image_dir}\")\n",
        "        self.transformer = SegmentationTransforms(is_train=is_train)\n",
        "\n",
        "    def __len__(self):\n",
        "        return len(self.valid_images)\n",
        "\n",
        "    def __getitem__(self, idx):\n",
        "        img_name = self.valid_images[idx]\n",
        "        img_path = os.path.join(self.image_dir, img_name)\n",
        "\n",
        "        # Get mask filename (change extension)\n",
        "        mask_name = os.path.splitext(img_name)[0] + \".png\"\n",
        "        mask_path = os.path.join(self.mask_dir, mask_name)\n",
        "\n",
        "        try:\n",
        "            image = Image.open(img_path).convert(\"RGB\")\n",
        "            mask = Image.open(mask_path).convert(\"RGB\")  # Ensure mask is RGB\n",
        "\n",
        "            if self.transform:\n",
        "                image, mask = self.transformer(image, mask)\n",
        "\n",
        "            # Check for out-of-range values\n",
        "            if mask.max() >= NUM_CLASSES:\n",
        "                print(f\"Warning: Mask in {mask_path} has value {mask.max().item()} >= NUM_CLASSES ({NUM_CLASSES})\")\n",
        "                mask = torch.clamp(mask, 0, NUM_CLASSES-1)\n",
        "\n",
        "            return image, mask\n",
        "        except Exception as e:\n",
        "            print(f\"Error loading {img_path} or {mask_path}: {e}\")\n",
        "            # Return a different item instead\n",
        "            return self.__getitem__((idx + 1) % self.__len__())\n",
        "\n",
        "# Function to verify mask values\n",
        "def check_dataset_masks(dataset, limit=20):\n",
        "    print(f\"Checking {limit} masks from dataset...\")\n",
        "    unique_values = set()\n",
        "\n",
        "    for i in range(min(limit, len(dataset))):\n",
        "        _, mask = dataset[i]\n",
        "        unique_values.update(mask.unique().tolist())\n",
        "\n",
        "        # Print distribution of first few masks\n",
        "        if i < 3:\n",
        "            class_counts = {}\n",
        "            for c in range(NUM_CLASSES):\n",
        "                class_counts[c] = (mask == c).sum().item()\n",
        "            print(f\"Sample {i} class distribution: {class_counts}\")\n",
        "\n",
        "    print(f\"Unique values in masks: {sorted(unique_values)}\")\n",
        "    if max(unique_values) >= NUM_CLASSES:\n",
        "        print(f\"WARNING: Some mask values exceed class count ({NUM_CLASSES})!\")\n",
        "    else:\n",
        "        print(f\"✓ All mask values are within valid range: 0-{NUM_CLASSES-1}\")\n",
        "\n",
        "# Test function\n",
        "def test_dataset():\n",
        "    print(\"Testing dataset...\")\n",
        "    train_set = SegmentationDataset(\"images/train\", \"masks_clean/train\", transform=True, is_train=True)\n",
        "\n",
        "    # Get and visualize a sample\n",
        "    image, mask = train_set[0]\n",
        "    print(f\"Image shape: {image.shape}, Mask shape: {mask.shape}\")\n",
        "    print(f\"Image min/max: {image.min().item():.2f}/{image.max().item():.2f}\")\n",
        "    print(f\"Mask unique values: {mask.unique().tolist()}\")\n",
        "\n",
        "    # Convert tensor to numpy for visualization\n",
        "    image_np = image.permute(1, 2, 0).numpy()\n",
        "    image_np = (image_np * np.array([0.229, 0.224, 0.225])) + np.array([0.485, 0.456, 0.406])\n",
        "    image_np = np.clip(image_np, 0, 1)\n",
        "\n",
        "    mask_np = mask.numpy()\n",
        "\n",
        "    # Visualize\n",
        "    fig, (ax1, ax2) = plt.subplots(1, 2, figsize=(10, 5))\n",
        "    ax1.imshow(image_np)\n",
        "    ax1.set_title('Image')\n",
        "    ax1.axis('off')\n",
        "\n",
        "    ax2.imshow(mask_np, vmin=0, vmax=NUM_CLASSES-1, cmap='viridis')\n",
        "    ax2.set_title('Mask (Class Indices)')\n",
        "    ax2.axis('off')\n",
        "\n",
        "    plt.tight_layout()\n",
        "    plt.savefig(\"sample_data.png\")\n",
        "    plt.close()\n",
        "\n",
        "    # Check dataset\n",
        "    check_dataset_masks(train_set)\n",
        "\n",
        "    print(\"Dataset test complete!\")\n",
        "\n",
        "# Execute the test\n",
        "if __name__ == \"__main__\":\n",
        "    test_dataset()"
      ],
      "metadata": {
        "colab": {
          "base_uri": "https://localhost:8080/"
        },
        "id": "yBHYgSx-9LXx",
        "outputId": "09ae96e6-fc37-45e4-e32a-20413b5f5827"
      },
      "execution_count": 6,
      "outputs": [
        {
          "output_type": "stream",
          "name": "stdout",
          "text": [
            "Testing dataset...\n",
            "Found 1497 valid image-mask pairs in images/train\n",
            "Image shape: torch.Size([3, 256, 256]), Mask shape: torch.Size([256, 256])\n",
            "Image min/max: -1.67/2.64\n",
            "Mask unique values: [0, 2, 3]\n",
            "Checking 20 masks from dataset...\n",
            "Sample 0 class distribution: {0: 54696, 1: 0, 2: 6299, 3: 4541, 4: 0, 5: 0}\n",
            "Sample 1 class distribution: {0: 56284, 1: 0, 2: 6350, 3: 2902, 4: 0, 5: 0}\n",
            "Sample 2 class distribution: {0: 55238, 1: 0, 2: 7504, 3: 2794, 4: 0, 5: 0}\n",
            "Unique values in masks: [0, 2, 3, 5]\n",
            "✓ All mask values are within valid range: 0-5\n",
            "Dataset test complete!\n"
          ]
        }
      ]
    },
    {
      "cell_type": "code",
      "source": [
        "import os\n",
        "os.environ[\"CUDA_LAUNCH_BLOCKING\"] = \"1\""
      ],
      "metadata": {
        "id": "uEJ6_qJxBIcE"
      },
      "execution_count": 32,
      "outputs": []
    },
    {
      "cell_type": "code",
      "source": [
        "import os\n",
        "import torch\n",
        "import torch.nn as nn\n",
        "from torch.utils.data import DataLoader, Dataset\n",
        "from torchvision import transforms\n",
        "from torchvision.transforms import functional as TF\n",
        "from PIL import Image\n",
        "import numpy as np\n",
        "import matplotlib.pyplot as plt\n",
        "from tqdm import tqdm\n",
        "import random\n",
        "from sklearn.metrics import confusion_matrix, f1_score, jaccard_score\n",
        "\n",
        "# Enable better CUDA error messages\n",
        "os.environ[\"CUDA_LAUNCH_BLOCKING\"] = \"1\"\n",
        "\n",
        "# Define class colors and names\n",
        "TARGET_CLASS_COLORS = [\n",
        "    (0, 0, 0),           # 0: Background (pure black)\n",
        "    (254, 254, 254),     # 1: Solid White Line (almost pure white)\n",
        "    (109, 74, 38),       # 2: Brown Markings (e.g., yellow curbs that appear brownish)\n",
        "    (134, 205, 233),     # 3: Light Blue (dashed lines)\n",
        "    (240, 111, 9),       # 4: Orange Markings (centerlines/special markings)\n",
        "    (127, 127, 0),       # 5: Olive Symbols (symbols/special markings)\n",
        "]\n",
        "\n",
        "CLASS_NAMES = [\n",
        "    \"Background\",\n",
        "    \"Solid White Line\",\n",
        "    \"Brown Markings\",\n",
        "    \"Dashed Light Blue\",\n",
        "    \"Orange Markings\",\n",
        "    \"Olive Symbols\"\n",
        "]\n",
        "\n",
        "# Parameters\n",
        "NUM_CLASSES = len(TARGET_CLASS_COLORS)\n",
        "IMAGE_SIZE = (256, 256)\n",
        "BATCH_SIZE = 4  # Reduced to avoid memory issues\n",
        "EPOCHS = 20\n",
        "LEARNING_RATE = 1e-3\n",
        "DEVICE = torch.device(\"cuda\" if torch.cuda.is_available() else \"cpu\")\n",
        "RANDOM_SEED = 42\n",
        "MODEL_SAVE_PATH = \"best_unet_model.pt\"\n",
        "\n",
        "# Create output directories\n",
        "os.makedirs(\"results\", exist_ok=True)\n",
        "os.makedirs(\"visualizations\", exist_ok=True)\n",
        "\n",
        "# Set random seeds for reproducibility\n",
        "torch.manual_seed(RANDOM_SEED)\n",
        "np.random.seed(RANDOM_SEED)\n",
        "random.seed(RANDOM_SEED)\n",
        "if torch.cuda.is_available():\n",
        "    torch.cuda.manual_seed(RANDOM_SEED)\n",
        "    torch.backends.cudnn.deterministic = True\n",
        "\n",
        "# Custom transformations\n",
        "class SegmentationTransforms:\n",
        "    def __init__(self, is_train=True):\n",
        "        self.is_train = is_train\n",
        "\n",
        "    def __call__(self, image, mask):\n",
        "        # Resize\n",
        "        image = image.resize(IMAGE_SIZE, Image.BILINEAR)\n",
        "        mask = mask.resize(IMAGE_SIZE, Image.NEAREST)  # Important: use NEAREST for masks\n",
        "\n",
        "        # Data augmentation only for training\n",
        "        if self.is_train and random.random() > 0.5:\n",
        "            # Random horizontal flip\n",
        "            if random.random() > 0.5:\n",
        "                image = TF.hflip(image)\n",
        "                mask = TF.hflip(mask)\n",
        "\n",
        "            # Random rotation\n",
        "            if random.random() > 0.5:\n",
        "                angle = random.randint(-30, 30)\n",
        "                image = TF.rotate(image, angle, fill=0)\n",
        "                mask = TF.rotate(mask, angle, fill=0)\n",
        "\n",
        "        # Convert to tensor\n",
        "        image = TF.to_tensor(image)\n",
        "\n",
        "        # Normalize image\n",
        "        image = TF.normalize(image, [0.485, 0.456, 0.406], [0.229, 0.224, 0.225])\n",
        "\n",
        "        # Convert mask to numpy and then to class indices\n",
        "        mask_np = np.array(mask)\n",
        "        class_mask = np.zeros((mask_np.shape[0], mask_np.shape[1]), dtype=np.int64)\n",
        "\n",
        "        # Map each RGB color to its class index with tolerance\n",
        "        for class_idx, color in enumerate(TARGET_CLASS_COLORS):\n",
        "            # Distance-based color matching with tolerance\n",
        "            if len(mask_np.shape) == 3:  # RGB mask\n",
        "                color_distance = np.sqrt(np.sum((mask_np - color)**2, axis=2))\n",
        "                color_mask = color_distance < 30  # Tolerance for compression artifacts\n",
        "                class_mask[color_mask] = class_idx\n",
        "\n",
        "        mask = torch.tensor(class_mask, dtype=torch.long)\n",
        "        return image, mask\n",
        "\n",
        "# Dataset\n",
        "class SegmentationDataset(Dataset):\n",
        "    def __init__(self, image_dir, mask_dir, transform=True, is_train=True):\n",
        "        self.image_dir = image_dir\n",
        "        self.mask_dir = mask_dir\n",
        "        self.transform = transform\n",
        "        self.is_train = is_train\n",
        "\n",
        "        # Get all image files\n",
        "        self.images = [f for f in sorted(os.listdir(image_dir)) if f.lower().endswith('.jpg')]\n",
        "\n",
        "        # Verify images have corresponding masks\n",
        "        self.valid_images = []\n",
        "        for img_name in self.images:\n",
        "            mask_name = os.path.splitext(img_name)[0] + \".png\"\n",
        "            if os.path.exists(os.path.join(mask_dir, mask_name)):\n",
        "                self.valid_images.append(img_name)\n",
        "            else:\n",
        "                print(f\"Warning: No mask found for {img_name}\")\n",
        "\n",
        "        print(f\"Found {len(self.valid_images)} valid image-mask pairs in {image_dir}\")\n",
        "        self.transformer = SegmentationTransforms(is_train=is_train)\n",
        "\n",
        "    def __len__(self):\n",
        "        return len(self.valid_images)\n",
        "\n",
        "    def __getitem__(self, idx):\n",
        "        img_name = self.valid_images[idx]\n",
        "        img_path = os.path.join(self.image_dir, img_name)\n",
        "\n",
        "        # Get mask filename (change extension)\n",
        "        mask_name = os.path.splitext(img_name)[0] + \".png\"\n",
        "        mask_path = os.path.join(self.mask_dir, mask_name)\n",
        "\n",
        "        try:\n",
        "            image = Image.open(img_path).convert(\"RGB\")\n",
        "            mask = Image.open(mask_path).convert(\"RGB\")  # Ensure mask is RGB\n",
        "\n",
        "            if self.transform:\n",
        "                image, mask = self.transformer(image, mask)\n",
        "\n",
        "            # Check for out-of-range values\n",
        "            if mask.max() >= NUM_CLASSES:\n",
        "                print(f\"Warning: Mask in {mask_path} has value {mask.max().item()} >= NUM_CLASSES ({NUM_CLASSES})\")\n",
        "                mask = torch.clamp(mask, 0, NUM_CLASSES-1)\n",
        "\n",
        "            return image, mask\n",
        "        except Exception as e:\n",
        "            print(f\"Error loading {img_path} or {mask_path}: {e}\")\n",
        "            # Return a different item instead\n",
        "            return self.__getitem__((idx + 1) % self.__len__())\n",
        "\n",
        "# U-Net model (with BatchNorm)\n",
        "class UNet(nn.Module):\n",
        "    def __init__(self, num_classes):\n",
        "        super().__init__()\n",
        "\n",
        "        def CBR(in_ch, out_ch):\n",
        "            return nn.Sequential(\n",
        "                nn.Conv2d(in_ch, out_ch, 3, padding=1),\n",
        "                nn.BatchNorm2d(out_ch),  # Added BatchNorm\n",
        "                nn.ReLU(inplace=True),\n",
        "                nn.Conv2d(out_ch, out_ch, 3, padding=1),\n",
        "                nn.BatchNorm2d(out_ch),  # Added BatchNorm\n",
        "                nn.ReLU(inplace=True),\n",
        "            )\n",
        "\n",
        "        self.enc1 = CBR(3, 64)\n",
        "        self.pool1 = nn.MaxPool2d(2)\n",
        "        self.enc2 = CBR(64, 128)\n",
        "        self.pool2 = nn.MaxPool2d(2)\n",
        "        self.enc3 = CBR(128, 256)\n",
        "        self.pool3 = nn.MaxPool2d(2)\n",
        "\n",
        "        self.bottleneck = CBR(256, 512)\n",
        "\n",
        "        self.up3 = nn.ConvTranspose2d(512, 256, 2, stride=2)\n",
        "        self.dec3 = CBR(512, 256)\n",
        "        self.up2 = nn.ConvTranspose2d(256, 128, 2, stride=2)\n",
        "        self.dec2 = CBR(256, 128)\n",
        "        self.up1 = nn.ConvTranspose2d(128, 64, 2, stride=2)\n",
        "        self.dec1 = CBR(128, 64)\n",
        "\n",
        "        self.final = nn.Conv2d(64, num_classes, 1)\n",
        "\n",
        "    def forward(self, x):\n",
        "        e1 = self.enc1(x)\n",
        "        e2 = self.enc2(self.pool1(e1))\n",
        "        e3 = self.enc3(self.pool2(e2))\n",
        "        b = self.bottleneck(self.pool3(e3))\n",
        "        d3 = self.dec3(torch.cat([self.up3(b), e3], dim=1))\n",
        "        d2 = self.dec2(torch.cat([self.up2(d3), e2], dim=1))\n",
        "        d1 = self.dec1(torch.cat([self.up1(d2), e1], dim=1))\n",
        "        return self.final(d1)\n",
        "\n",
        "# Function to convert class indices back to RGB for visualization\n",
        "def class_to_rgb(class_map):\n",
        "    \"\"\"Convert class index map to RGB image for visualization\"\"\"\n",
        "    h, w = class_map.shape\n",
        "    rgb = np.zeros((h, w, 3), dtype=np.uint8)\n",
        "    for class_idx, color in enumerate(TARGET_CLASS_COLORS):\n",
        "        rgb[class_map == class_idx] = color\n",
        "    return rgb\n",
        "\n",
        "# Function to calculate metrics\n",
        "def calculate_metrics(true_mask, pred_mask, num_classes):\n",
        "    \"\"\"Calculate IoU and F1 score for each class\"\"\"\n",
        "    # Flatten the masks\n",
        "    true_flat = true_mask.flatten()\n",
        "    pred_flat = pred_mask.flatten()\n",
        "\n",
        "    # Calculate metrics\n",
        "    class_iou = jaccard_score(true_flat, pred_flat, labels=range(num_classes), average=None, zero_division=0)\n",
        "    class_f1 = f1_score(true_flat, pred_flat, labels=range(num_classes), average=None, zero_division=0)\n",
        "\n",
        "    # Calculate confusion matrix\n",
        "    cm = confusion_matrix(true_flat, pred_flat, labels=range(num_classes))\n",
        "\n",
        "    return {\n",
        "        'iou': class_iou,\n",
        "        'f1': class_f1,\n",
        "        'confusion_matrix': cm\n",
        "    }\n",
        "\n",
        "# Function to save metrics visualization\n",
        "def save_metrics_visualization(metrics, class_names, epoch, split='val'):\n",
        "    \"\"\"Create and save visualizations of metrics\"\"\"\n",
        "    # IoU and F1 Bar chart\n",
        "    fig, (ax1, ax2) = plt.subplots(2, 1, figsize=(10, 12))\n",
        "\n",
        "    # IoU plot\n",
        "    bars = ax1.bar(range(len(class_names)), metrics['iou'], color='skyblue')\n",
        "    ax1.set_title(f'IoU by Class (Epoch {epoch})')\n",
        "    ax1.set_xlabel('Class')\n",
        "    ax1.set_ylabel('IoU')\n",
        "    ax1.set_xticks(range(len(class_names)))\n",
        "    ax1.set_xticklabels(class_names, rotation=45, ha='right')\n",
        "    for bar in bars:\n",
        "        height = bar.get_height()\n",
        "        ax1.annotate(f'{height:.2f}',\n",
        "                    xy=(bar.get_x() + bar.get_width() / 2, height),\n",
        "                    xytext=(0, 3),  # 3 points vertical offset\n",
        "                    textcoords=\"offset points\",\n",
        "                    ha='center', va='bottom')\n",
        "\n",
        "    # F1 plot\n",
        "    bars = ax2.bar(range(len(class_names)), metrics['f1'], color='lightgreen')\n",
        "    ax2.set_title(f'F1 Score by Class (Epoch {epoch})')\n",
        "    ax2.set_xlabel('Class')\n",
        "    ax2.set_ylabel('F1 Score')\n",
        "    ax2.set_xticks(range(len(class_names)))\n",
        "    ax2.set_xticklabels(class_names, rotation=45, ha='right')\n",
        "    for bar in bars:\n",
        "        height = bar.get_height()\n",
        "        ax2.annotate(f'{height:.2f}',\n",
        "                    xy=(bar.get_x() + bar.get_width() / 2, height),\n",
        "                    xytext=(0, 3),  # 3 points vertical offset\n",
        "                    textcoords=\"offset points\",\n",
        "                    ha='center', va='bottom')\n",
        "\n",
        "    plt.tight_layout()\n",
        "    plt.savefig(f\"results/{split}_metrics_epoch_{epoch}.png\")\n",
        "    plt.close()\n",
        "\n",
        "    # Confusion Matrix plot\n",
        "    plt.figure(figsize=(10, 8))\n",
        "    cm = metrics['confusion_matrix']\n",
        "    # Normalize by row (true labels)\n",
        "    cm_norm = cm.astype('float') / (cm.sum(axis=1)[:, np.newaxis] + 1e-8)\n",
        "\n",
        "    plt.imshow(cm_norm, interpolation='nearest', cmap=plt.cm.Blues)\n",
        "    plt.title(f'Normalized Confusion Matrix (Epoch {epoch})')\n",
        "    plt.colorbar()\n",
        "    tick_marks = np.arange(len(class_names))\n",
        "    plt.xticks(tick_marks, class_names, rotation=45, ha='right')\n",
        "    plt.yticks(tick_marks, class_names)\n",
        "\n",
        "    # Add text annotations\n",
        "    fmt = '.2f'\n",
        "    thresh = cm_norm.max() / 2.\n",
        "    for i in range(cm_norm.shape[0]):\n",
        "        for j in range(cm_norm.shape[1]):\n",
        "            plt.text(j, i, format(cm_norm[i, j], fmt),\n",
        "                    ha=\"center\", va=\"center\",\n",
        "                    color=\"white\" if cm_norm[i, j] > thresh else \"black\")\n",
        "\n",
        "    plt.ylabel('True label')\n",
        "    plt.xlabel('Predicted label')\n",
        "    plt.tight_layout()\n",
        "    plt.savefig(f\"results/{split}_confusion_matrix_epoch_{epoch}.png\")\n",
        "    plt.close()\n",
        "\n",
        "# Function to visualize predictions\n",
        "def visualize_prediction(model, dataset, device, idx=0, epoch=0, save_dir=\"visualizations\"):\n",
        "    model.eval()\n",
        "    with torch.no_grad():\n",
        "        image, mask = dataset[idx]\n",
        "        input_tensor = image.unsqueeze(0).to(device)\n",
        "        output = model(input_tensor)\n",
        "        prediction = torch.argmax(output, dim=1).squeeze().cpu().numpy()\n",
        "\n",
        "    # Convert tensors to numpy for visualization\n",
        "    image = image.permute(1, 2, 0).numpy()\n",
        "    image = (image * np.array([0.229, 0.224, 0.225])) + np.array([0.485, 0.456, 0.406])\n",
        "    image = np.clip(image, 0, 1)\n",
        "\n",
        "    mask = mask.numpy()\n",
        "\n",
        "    # Convert class indices to RGB\n",
        "    mask_rgb = class_to_rgb(mask)\n",
        "    pred_rgb = class_to_rgb(prediction)\n",
        "\n",
        "    # Calculate metrics\n",
        "    metrics = calculate_metrics(mask, prediction, NUM_CLASSES)\n",
        "    mean_iou = np.mean(metrics['iou'])\n",
        "    mean_f1 = np.mean(metrics['f1'])\n",
        "\n",
        "    # Plot\n",
        "    fig, axes = plt.subplots(1, 4, figsize=(20, 5))\n",
        "\n",
        "    axes[0].imshow(image)\n",
        "    axes[0].set_title('Original Image')\n",
        "    axes[0].axis('off')\n",
        "\n",
        "    axes[1].imshow(mask, cmap='viridis')\n",
        "    axes[1].set_title('Ground Truth (Class Indices)')\n",
        "    axes[1].axis('off')\n",
        "\n",
        "    axes[2].imshow(mask_rgb)\n",
        "    axes[2].set_title('Ground Truth (RGB)')\n",
        "    axes[2].axis('off')\n",
        "\n",
        "    axes[3].imshow(pred_rgb)\n",
        "    axes[3].set_title(f'Prediction (RGB)\\nIoU: {mean_iou:.2f}, F1: {mean_f1:.2f}')\n",
        "    axes[3].axis('off')\n",
        "\n",
        "    plt.tight_layout()\n",
        "    plt.savefig(f\"{save_dir}/pred_epoch_{epoch}_sample_{idx}.png\")\n",
        "    plt.close(fig)\n",
        "\n",
        "    return metrics\n",
        "\n",
        "# Main training function\n",
        "def train_model():\n",
        "    print(f\"Using device: {DEVICE}\")\n",
        "\n",
        "    # Create datasets and loaders\n",
        "    train_set = SegmentationDataset(\"images/train\", \"masks_clean/train\", transform=True, is_train=True)\n",
        "    valid_set = SegmentationDataset(\"images/valid\", \"masks_clean/valid\", transform=True, is_train=False)\n",
        "    test_set = SegmentationDataset(\"images/test\", \"masks_clean/test\", transform=True, is_train=False)\n",
        "\n",
        "    train_loader = DataLoader(train_set, batch_size=BATCH_SIZE, shuffle=True, num_workers=2, pin_memory=True)\n",
        "    valid_loader = DataLoader(valid_set, batch_size=BATCH_SIZE, num_workers=2, pin_memory=True)\n",
        "    test_loader = DataLoader(test_set, batch_size=BATCH_SIZE, num_workers=2, pin_memory=True)\n",
        "\n",
        "    # Model, loss, optimizer\n",
        "    model = UNet(NUM_CLASSES).to(DEVICE)\n",
        "    criterion = nn.CrossEntropyLoss()\n",
        "    optimizer = torch.optim.Adam(model.parameters(), lr=LEARNING_RATE)\n",
        "    scheduler = torch.optim.lr_scheduler.ReduceLROnPlateau(optimizer, 'min', patience=3, factor=0.5, verbose=True)\n",
        "\n",
        "    # Keep track of metrics\n",
        "    train_losses = []\n",
        "    val_losses = []\n",
        "    best_val_loss = float('inf')\n",
        "\n",
        "    # Training loop\n",
        "    for epoch in range(EPOCHS):\n",
        "        # Training\n",
        "        model.train()\n",
        "        epoch_loss = 0\n",
        "\n",
        "        with tqdm(total=len(train_loader), desc=f\"Epoch {epoch+1}/{EPOCHS} [Train]\") as pbar:\n",
        "            for images, masks in train_loader:\n",
        "                images, masks = images.to(DEVICE), masks.to(DEVICE)\n",
        "\n",
        "                optimizer.zero_grad()\n",
        "                outputs = model(images)\n",
        "                loss = criterion(outputs, masks)\n",
        "                loss.backward()\n",
        "                optimizer.step()\n",
        "\n",
        "                epoch_loss += loss.item()\n",
        "                pbar.update(1)\n",
        "                pbar.set_postfix({'loss': f\"{loss.item():.4f}\"})\n",
        "\n",
        "        train_loss = epoch_loss / len(train_loader)\n",
        "        train_losses.append(train_loss)\n",
        "\n",
        "        # Validation\n",
        "        model.eval()\n",
        "        val_loss = 0\n",
        "        all_preds = []\n",
        "        all_masks = []\n",
        "\n",
        "        with torch.no_grad():\n",
        "            with tqdm(total=len(valid_loader), desc=f\"Epoch {epoch+1}/{EPOCHS} [Valid]\") as pbar:\n",
        "                for images, masks in valid_loader:\n",
        "                    images, masks = images.to(DEVICE), masks.to(DEVICE)\n",
        "                    outputs = model(images)\n",
        "                    loss = criterion(outputs, masks)\n",
        "                    val_loss += loss.item()\n",
        "\n",
        "                    # Get predictions\n",
        "                    preds = torch.argmax(outputs, dim=1)\n",
        "                    all_preds.append(preds.cpu().numpy())\n",
        "                    all_masks.append(masks.cpu().numpy())\n",
        "\n",
        "                    pbar.update(1)\n",
        "\n",
        "        val_loss /= len(valid_loader)\n",
        "        val_losses.append(val_loss)\n",
        "\n",
        "        # Combine predictions and masks\n",
        "        all_preds = np.concatenate([p.flatten() for p in all_preds])\n",
        "        all_masks = np.concatenate([m.flatten() for m in all_masks])\n",
        "\n",
        "        # Calculate metrics\n",
        "        val_metrics = {\n",
        "            'iou': jaccard_score(all_masks, all_preds, labels=range(NUM_CLASSES), average=None, zero_division=0),\n",
        "            'f1': f1_score(all_masks, all_preds, labels=range(NUM_CLASSES), average=None, zero_division=0),\n",
        "            'confusion_matrix': confusion_matrix(all_masks, all_preds, labels=range(NUM_CLASSES))\n",
        "        }\n",
        "\n",
        "        mean_iou = np.mean(val_metrics['iou'])\n",
        "        mean_f1 = np.mean(val_metrics['f1'])\n",
        "\n",
        "        # Save metrics visualization\n",
        "        save_metrics_visualization(val_metrics, CLASS_NAMES, epoch+1)\n",
        "\n",
        "        # Visualize predictions\n",
        "        for i in range(min(5, len(valid_set))):\n",
        "            visualize_prediction(model, valid_set, DEVICE, i, epoch+1)\n",
        "\n",
        "        # Update learning rate\n",
        "        scheduler.step(val_loss)\n",
        "\n",
        "        # Save model if validation loss improves\n",
        "        if val_loss < best_val_loss:\n",
        "            best_val_loss = val_loss\n",
        "            torch.save({\n",
        "                'epoch': epoch,\n",
        "                'model_state_dict': model.state_dict(),\n",
        "                'optimizer_state_dict': optimizer.state_dict(),\n",
        "                'val_loss': val_loss,\n",
        "                'mean_iou': mean_iou,\n",
        "                'mean_f1': mean_f1,\n",
        "            }, MODEL_SAVE_PATH)\n",
        "            print(f\"✓ Model saved with validation loss: {val_loss:.4f}, IoU: {mean_iou:.4f}, F1: {mean_f1:.4f}\")\n",
        "\n",
        "        print(f\"Epoch {epoch+1}/{EPOCHS}\")\n",
        "        print(f\"  Train Loss: {train_loss:.4f}\")\n",
        "        print(f\"  Valid Loss: {val_loss:.4f}, IoU: {mean_iou:.4f}, F1: {mean_f1:.4f}\")\n",
        "\n",
        "    # Plot training history\n",
        "    plt.figure(figsize=(10, 5))\n",
        "    plt.plot(train_losses, label='Train Loss')\n",
        "    plt.plot(val_losses, label='Validation Loss')\n",
        "    plt.title('Training and Validation Loss')\n",
        "    plt.xlabel('Epochs')\n",
        "    plt.ylabel('Loss')\n",
        "    plt.legend()\n",
        "    plt.grid(True)\n",
        "    plt.savefig(\"results/training_history.png\")\n",
        "    plt.close()\n",
        "\n",
        "    # Test on test set\n",
        "    print(\"\\nEvaluating on test set...\")\n",
        "\n",
        "    # Load best model\n",
        "    checkpoint = torch.load(MODEL_SAVE_PATH)\n",
        "    model.load_state_dict(checkpoint['model_state_dict'])\n",
        "\n",
        "    model.eval()\n",
        "    test_loss = 0\n",
        "    all_preds = []\n",
        "    all_masks = []\n",
        "\n",
        "    with torch.no_grad():\n",
        "        with tqdm(total=len(test_loader), desc=\"Testing\") as pbar:\n",
        "            for images, masks in test_loader:\n",
        "                images, masks = images.to(DEVICE), masks.to(DEVICE)\n",
        "                outputs = model(images)\n",
        "                loss = criterion(outputs, masks)\n",
        "                test_loss += loss.item()\n",
        "\n",
        "                # Get predictions\n",
        "                preds = torch.argmax(outputs, dim=1)\n",
        "                all_preds.append(preds.cpu().numpy())\n",
        "                all_masks.append(masks.cpu().numpy())\n",
        "\n",
        "                pbar.update(1)\n",
        "\n",
        "    test_loss /= len(test_loader)\n",
        "\n",
        "    # Combine predictions and masks\n",
        "    all_preds = np.concatenate([p.flatten() for p in all_preds])\n",
        "    all_masks = np.concatenate([m.flatten() for m in all_masks])\n",
        "\n",
        "    # Calculate metrics\n",
        "    test_metrics = {\n",
        "        'iou': jaccard_score(all_masks, all_preds, labels=range(NUM_CLASSES), average=None, zero_division=0),\n",
        "        'f1': f1_score(all_masks, all_preds, labels=range(NUM_CLASSES), average=None, zero_division=0),\n",
        "        'confusion_matrix': confusion_matrix(all_masks, all_preds, labels=range(NUM_CLASSES))\n",
        "    }\n",
        "\n",
        "    mean_iou = np.mean(test_metrics['iou'])\n",
        "    mean_f1 = np.mean(test_metrics['f1'])\n",
        "\n",
        "    # Save test metrics visualization\n",
        "    save_metrics_visualization(test_metrics, CLASS_NAMES, 'final', 'test')\n",
        "\n",
        "    # Visualize test predictions\n",
        "    for i in range(min(10, len(test_set))):\n",
        "        visualize_prediction(model, test_set, DEVICE, i, 'final', \"visualizations/test\")\n",
        "\n",
        "    print(f\"Test Results:\")\n",
        "    print(f\"  Loss: {test_loss:.4f}\")\n",
        "    print(f\"  Mean IoU: {mean_iou:.4f}\")\n",
        "    print(f\"  Mean F1: {mean_f1:.4f}\")\n",
        "    print(f\"  Class IoU: {test_metrics['iou']}\")\n",
        "    print(f\"  Class F1: {test_metrics['f1']}\")\n",
        "\n",
        "    # Save detailed test metrics to file\n",
        "    with open(\"results/test_metrics.txt\", \"w\") as f:\n",
        "        f.write(f\"Test Loss: {test_loss:.4f}\\n\")\n",
        "        f.write(f\"Mean IoU: {mean_iou:.4f}\\n\")\n",
        "        f.write(f\"Mean F1: {mean_f1:.4f}\\n\\n\")\n",
        "\n",
        "        f.write(\"Class-wise Metrics:\\n\")\n",
        "        for i, class_name in enumerate(CLASS_NAMES):\n",
        "            f.write(f\"  {class_name}:\\n\")\n",
        "            f.write(f\"    IoU: {test_metrics['iou'][i]:.4f}\\n\")\n",
        "            f.write(f\"    F1: {test_metrics['f1'][i]:.4f}\\n\")\n",
        "\n",
        "if __name__ == \"__main__\":\n",
        "    train_model()"
      ],
      "metadata": {
        "colab": {
          "base_uri": "https://localhost:8080/",
          "height": 1000
        },
        "id": "UHyUxlsyHjyu",
        "outputId": "d72f5332-ee97-4634-eab1-750ab4311252"
      },
      "execution_count": 7,
      "outputs": [
        {
          "output_type": "stream",
          "name": "stdout",
          "text": [
            "Using device: cuda\n",
            "Found 1497 valid image-mask pairs in images/train\n",
            "Found 169 valid image-mask pairs in images/valid\n",
            "Found 300 valid image-mask pairs in images/test\n"
          ]
        },
        {
          "output_type": "stream",
          "name": "stderr",
          "text": [
            "/usr/local/lib/python3.11/dist-packages/torch/optim/lr_scheduler.py:62: UserWarning: The verbose parameter is deprecated. Please use get_last_lr() to access the learning rate.\n",
            "  warnings.warn(\n",
            "Epoch 1/20 [Train]: 100%|██████████| 375/375 [01:38<00:00,  3.79it/s, loss=0.3088]\n",
            "Epoch 1/20 [Valid]: 100%|██████████| 43/43 [00:06<00:00,  6.99it/s]\n"
          ]
        },
        {
          "output_type": "stream",
          "name": "stdout",
          "text": [
            "✓ Model saved with validation loss: 0.3428, IoU: 0.2597, F1: 0.3192\n",
            "Epoch 1/20\n",
            "  Train Loss: 0.4301\n",
            "  Valid Loss: 0.3428, IoU: 0.2597, F1: 0.3192\n"
          ]
        },
        {
          "output_type": "stream",
          "name": "stderr",
          "text": [
            "Epoch 2/20 [Train]: 100%|██████████| 375/375 [01:40<00:00,  3.75it/s, loss=0.2328]\n",
            "Epoch 2/20 [Valid]: 100%|██████████| 43/43 [00:06<00:00,  6.84it/s]\n"
          ]
        },
        {
          "output_type": "stream",
          "name": "stdout",
          "text": [
            "✓ Model saved with validation loss: 0.2676, IoU: 0.3251, F1: 0.3846\n",
            "Epoch 2/20\n",
            "  Train Loss: 0.2618\n",
            "  Valid Loss: 0.2676, IoU: 0.3251, F1: 0.3846\n"
          ]
        },
        {
          "output_type": "stream",
          "name": "stderr",
          "text": [
            "Epoch 3/20 [Train]: 100%|██████████| 375/375 [01:41<00:00,  3.71it/s, loss=0.1117]\n",
            "Epoch 3/20 [Valid]: 100%|██████████| 43/43 [00:06<00:00,  6.65it/s]\n"
          ]
        },
        {
          "output_type": "stream",
          "name": "stdout",
          "text": [
            "✓ Model saved with validation loss: 0.2241, IoU: 0.4029, F1: 0.4966\n",
            "Epoch 3/20\n",
            "  Train Loss: 0.2217\n",
            "  Valid Loss: 0.2241, IoU: 0.4029, F1: 0.4966\n"
          ]
        },
        {
          "output_type": "stream",
          "name": "stderr",
          "text": [
            "Epoch 4/20 [Train]: 100%|██████████| 375/375 [01:41<00:00,  3.71it/s, loss=0.3792]\n",
            "Epoch 4/20 [Valid]: 100%|██████████| 43/43 [00:06<00:00,  6.86it/s]\n"
          ]
        },
        {
          "output_type": "stream",
          "name": "stdout",
          "text": [
            "Epoch 4/20\n",
            "  Train Loss: 0.1956\n",
            "  Valid Loss: 0.2358, IoU: 0.4729, F1: 0.5758\n"
          ]
        },
        {
          "output_type": "stream",
          "name": "stderr",
          "text": [
            "Epoch 5/20 [Train]: 100%|██████████| 375/375 [01:41<00:00,  3.71it/s, loss=0.1071]\n",
            "Epoch 5/20 [Valid]: 100%|██████████| 43/43 [00:06<00:00,  6.82it/s]\n"
          ]
        },
        {
          "output_type": "stream",
          "name": "stdout",
          "text": [
            "✓ Model saved with validation loss: 0.1746, IoU: 0.5255, F1: 0.6329\n",
            "Epoch 5/20\n",
            "  Train Loss: 0.1776\n",
            "  Valid Loss: 0.1746, IoU: 0.5255, F1: 0.6329\n"
          ]
        },
        {
          "output_type": "stream",
          "name": "stderr",
          "text": [
            "Epoch 6/20 [Train]: 100%|██████████| 375/375 [01:41<00:00,  3.71it/s, loss=0.0906]\n",
            "Epoch 6/20 [Valid]: 100%|██████████| 43/43 [00:06<00:00,  6.93it/s]\n"
          ]
        },
        {
          "output_type": "stream",
          "name": "stdout",
          "text": [
            "✓ Model saved with validation loss: 0.1576, IoU: 0.5580, F1: 0.6774\n",
            "Epoch 6/20\n",
            "  Train Loss: 0.1551\n",
            "  Valid Loss: 0.1576, IoU: 0.5580, F1: 0.6774\n"
          ]
        },
        {
          "output_type": "stream",
          "name": "stderr",
          "text": [
            "Epoch 7/20 [Train]: 100%|██████████| 375/375 [01:41<00:00,  3.70it/s, loss=0.3968]\n",
            "Epoch 7/20 [Valid]: 100%|██████████| 43/43 [00:06<00:00,  6.82it/s]\n"
          ]
        },
        {
          "output_type": "stream",
          "name": "stdout",
          "text": [
            "✓ Model saved with validation loss: 0.1543, IoU: 0.5534, F1: 0.6626\n",
            "Epoch 7/20\n",
            "  Train Loss: 0.1373\n",
            "  Valid Loss: 0.1543, IoU: 0.5534, F1: 0.6626\n"
          ]
        },
        {
          "output_type": "stream",
          "name": "stderr",
          "text": [
            "Epoch 8/20 [Train]: 100%|██████████| 375/375 [01:40<00:00,  3.72it/s, loss=0.1499]\n",
            "Epoch 8/20 [Valid]: 100%|██████████| 43/43 [00:06<00:00,  6.88it/s]\n"
          ]
        },
        {
          "output_type": "stream",
          "name": "stdout",
          "text": [
            "✓ Model saved with validation loss: 0.1234, IoU: 0.6483, F1: 0.7643\n",
            "Epoch 8/20\n",
            "  Train Loss: 0.1260\n",
            "  Valid Loss: 0.1234, IoU: 0.6483, F1: 0.7643\n"
          ]
        },
        {
          "output_type": "stream",
          "name": "stderr",
          "text": [
            "Epoch 9/20 [Train]: 100%|██████████| 375/375 [01:41<00:00,  3.71it/s, loss=0.0371]\n",
            "Epoch 9/20 [Valid]: 100%|██████████| 43/43 [00:06<00:00,  6.82it/s]\n"
          ]
        },
        {
          "output_type": "stream",
          "name": "stdout",
          "text": [
            "✓ Model saved with validation loss: 0.1166, IoU: 0.6619, F1: 0.7764\n",
            "Epoch 9/20\n",
            "  Train Loss: 0.1111\n",
            "  Valid Loss: 0.1166, IoU: 0.6619, F1: 0.7764\n"
          ]
        },
        {
          "output_type": "stream",
          "name": "stderr",
          "text": [
            "Epoch 10/20 [Train]: 100%|██████████| 375/375 [01:40<00:00,  3.71it/s, loss=0.1959]\n",
            "Epoch 10/20 [Valid]: 100%|██████████| 43/43 [00:06<00:00,  6.85it/s]\n"
          ]
        },
        {
          "output_type": "stream",
          "name": "stdout",
          "text": [
            "✓ Model saved with validation loss: 0.1061, IoU: 0.6921, F1: 0.8017\n",
            "Epoch 10/20\n",
            "  Train Loss: 0.1060\n",
            "  Valid Loss: 0.1061, IoU: 0.6921, F1: 0.8017\n"
          ]
        },
        {
          "output_type": "stream",
          "name": "stderr",
          "text": [
            "Epoch 11/20 [Train]: 100%|██████████| 375/375 [01:40<00:00,  3.72it/s, loss=0.0736]\n",
            "Epoch 11/20 [Valid]: 100%|██████████| 43/43 [00:06<00:00,  6.70it/s]\n"
          ]
        },
        {
          "output_type": "stream",
          "name": "stdout",
          "text": [
            "✓ Model saved with validation loss: 0.1027, IoU: 0.7240, F1: 0.8289\n",
            "Epoch 11/20\n",
            "  Train Loss: 0.0947\n",
            "  Valid Loss: 0.1027, IoU: 0.7240, F1: 0.8289\n"
          ]
        },
        {
          "output_type": "stream",
          "name": "stderr",
          "text": [
            "Epoch 12/20 [Train]: 100%|██████████| 375/375 [01:40<00:00,  3.72it/s, loss=0.0365]\n",
            "Epoch 12/20 [Valid]: 100%|██████████| 43/43 [00:06<00:00,  6.77it/s]\n"
          ]
        },
        {
          "output_type": "stream",
          "name": "stdout",
          "text": [
            "Epoch 12/20\n",
            "  Train Loss: 0.0928\n",
            "  Valid Loss: 0.1191, IoU: 0.6593, F1: 0.7696\n"
          ]
        },
        {
          "output_type": "stream",
          "name": "stderr",
          "text": [
            "Epoch 13/20 [Train]: 100%|██████████| 375/375 [01:40<00:00,  3.72it/s, loss=0.1059]\n",
            "Epoch 13/20 [Valid]: 100%|██████████| 43/43 [00:06<00:00,  6.73it/s]\n"
          ]
        },
        {
          "output_type": "stream",
          "name": "stdout",
          "text": [
            "✓ Model saved with validation loss: 0.0815, IoU: 0.7403, F1: 0.8388\n",
            "Epoch 13/20\n",
            "  Train Loss: 0.0830\n",
            "  Valid Loss: 0.0815, IoU: 0.7403, F1: 0.8388\n"
          ]
        },
        {
          "output_type": "stream",
          "name": "stderr",
          "text": [
            "Epoch 14/20 [Train]: 100%|██████████| 375/375 [01:40<00:00,  3.72it/s, loss=0.2142]\n",
            "Epoch 14/20 [Valid]: 100%|██████████| 43/43 [00:06<00:00,  6.19it/s]\n"
          ]
        },
        {
          "output_type": "stream",
          "name": "stdout",
          "text": [
            "Epoch 14/20\n",
            "  Train Loss: 0.0804\n",
            "  Valid Loss: 0.0873, IoU: 0.7446, F1: 0.8430\n"
          ]
        },
        {
          "output_type": "stream",
          "name": "stderr",
          "text": [
            "Epoch 15/20 [Train]: 100%|██████████| 375/375 [01:41<00:00,  3.71it/s, loss=0.0674]\n",
            "Epoch 15/20 [Valid]: 100%|██████████| 43/43 [00:07<00:00,  5.89it/s]\n"
          ]
        },
        {
          "output_type": "stream",
          "name": "stdout",
          "text": [
            "✓ Model saved with validation loss: 0.0799, IoU: 0.7575, F1: 0.8530\n",
            "Epoch 15/20\n",
            "  Train Loss: 0.0776\n",
            "  Valid Loss: 0.0799, IoU: 0.7575, F1: 0.8530\n"
          ]
        },
        {
          "output_type": "stream",
          "name": "stderr",
          "text": [
            "Epoch 16/20 [Train]: 100%|██████████| 375/375 [01:40<00:00,  3.71it/s, loss=0.0305]\n",
            "Epoch 16/20 [Valid]: 100%|██████████| 43/43 [00:07<00:00,  6.00it/s]\n"
          ]
        },
        {
          "output_type": "stream",
          "name": "stdout",
          "text": [
            "Epoch 16/20\n",
            "  Train Loss: 0.0711\n",
            "  Valid Loss: 0.0874, IoU: 0.7226, F1: 0.8282\n"
          ]
        },
        {
          "output_type": "stream",
          "name": "stderr",
          "text": [
            "Epoch 17/20 [Train]: 100%|██████████| 375/375 [01:40<00:00,  3.72it/s, loss=0.0991]\n",
            "Epoch 17/20 [Valid]: 100%|██████████| 43/43 [00:06<00:00,  6.15it/s]\n"
          ]
        },
        {
          "output_type": "stream",
          "name": "stdout",
          "text": [
            "✓ Model saved with validation loss: 0.0658, IoU: 0.7993, F1: 0.8833\n",
            "Epoch 17/20\n",
            "  Train Loss: 0.0658\n",
            "  Valid Loss: 0.0658, IoU: 0.7993, F1: 0.8833\n"
          ]
        },
        {
          "output_type": "stream",
          "name": "stderr",
          "text": [
            "Epoch 18/20 [Train]: 100%|██████████| 375/375 [01:40<00:00,  3.72it/s, loss=0.0471]\n",
            "Epoch 18/20 [Valid]: 100%|██████████| 43/43 [00:07<00:00,  6.03it/s]\n"
          ]
        },
        {
          "output_type": "stream",
          "name": "stdout",
          "text": [
            "Epoch 18/20\n",
            "  Train Loss: 0.0681\n",
            "  Valid Loss: 0.0879, IoU: 0.7374, F1: 0.8390\n"
          ]
        },
        {
          "output_type": "stream",
          "name": "stderr",
          "text": [
            "Epoch 19/20 [Train]: 100%|██████████| 375/375 [01:41<00:00,  3.71it/s, loss=0.1215]\n",
            "Epoch 19/20 [Valid]: 100%|██████████| 43/43 [00:07<00:00,  5.96it/s]\n"
          ]
        },
        {
          "output_type": "stream",
          "name": "stdout",
          "text": [
            "✓ Model saved with validation loss: 0.0606, IoU: 0.8154, F1: 0.8935\n",
            "Epoch 19/20\n",
            "  Train Loss: 0.0605\n",
            "  Valid Loss: 0.0606, IoU: 0.8154, F1: 0.8935\n"
          ]
        },
        {
          "output_type": "stream",
          "name": "stderr",
          "text": [
            "Epoch 20/20 [Train]: 100%|██████████| 375/375 [01:41<00:00,  3.71it/s, loss=0.0636]\n",
            "Epoch 20/20 [Valid]: 100%|██████████| 43/43 [00:07<00:00,  5.97it/s]\n"
          ]
        },
        {
          "output_type": "stream",
          "name": "stdout",
          "text": [
            "✓ Model saved with validation loss: 0.0603, IoU: 0.8139, F1: 0.8924\n",
            "Epoch 20/20\n",
            "  Train Loss: 0.0599\n",
            "  Valid Loss: 0.0603, IoU: 0.8139, F1: 0.8924\n",
            "\n",
            "Evaluating on test set...\n"
          ]
        },
        {
          "output_type": "error",
          "ename": "UnpicklingError",
          "evalue": "Weights only load failed. This file can still be loaded, to do so you have two options, \u001b[1mdo those steps only if you trust the source of the checkpoint\u001b[0m. \n\t(1) In PyTorch 2.6, we changed the default value of the `weights_only` argument in `torch.load` from `False` to `True`. Re-running `torch.load` with `weights_only` set to `False` will likely succeed, but it can result in arbitrary code execution. Do it only if you got the file from a trusted source.\n\t(2) Alternatively, to load with `weights_only=True` please check the recommended steps in the following error message.\n\tWeightsUnpickler error: Unsupported global: GLOBAL numpy._core.multiarray.scalar was not an allowed global by default. Please use `torch.serialization.add_safe_globals([scalar])` or the `torch.serialization.safe_globals([scalar])` context manager to allowlist this global if you trust this class/function.\n\nCheck the documentation of torch.load to learn more about types accepted by default with weights_only https://pytorch.org/docs/stable/generated/torch.load.html.",
          "traceback": [
            "\u001b[0;31m---------------------------------------------------------------------------\u001b[0m",
            "\u001b[0;31mUnpicklingError\u001b[0m                           Traceback (most recent call last)",
            "\u001b[0;32m<ipython-input-7-042aa2776f99>\u001b[0m in \u001b[0;36m<cell line: 0>\u001b[0;34m()\u001b[0m\n\u001b[1;32m    536\u001b[0m \u001b[0;34m\u001b[0m\u001b[0m\n\u001b[1;32m    537\u001b[0m \u001b[0;32mif\u001b[0m \u001b[0m__name__\u001b[0m \u001b[0;34m==\u001b[0m \u001b[0;34m\"__main__\"\u001b[0m\u001b[0;34m:\u001b[0m\u001b[0;34m\u001b[0m\u001b[0;34m\u001b[0m\u001b[0m\n\u001b[0;32m--> 538\u001b[0;31m     \u001b[0mtrain_model\u001b[0m\u001b[0;34m(\u001b[0m\u001b[0;34m)\u001b[0m\u001b[0;34m\u001b[0m\u001b[0;34m\u001b[0m\u001b[0m\n\u001b[0m",
            "\u001b[0;32m<ipython-input-7-042aa2776f99>\u001b[0m in \u001b[0;36mtrain_model\u001b[0;34m()\u001b[0m\n\u001b[1;32m    470\u001b[0m \u001b[0;34m\u001b[0m\u001b[0m\n\u001b[1;32m    471\u001b[0m     \u001b[0;31m# Load best model\u001b[0m\u001b[0;34m\u001b[0m\u001b[0;34m\u001b[0m\u001b[0m\n\u001b[0;32m--> 472\u001b[0;31m     \u001b[0mcheckpoint\u001b[0m \u001b[0;34m=\u001b[0m \u001b[0mtorch\u001b[0m\u001b[0;34m.\u001b[0m\u001b[0mload\u001b[0m\u001b[0;34m(\u001b[0m\u001b[0mMODEL_SAVE_PATH\u001b[0m\u001b[0;34m)\u001b[0m\u001b[0;34m\u001b[0m\u001b[0;34m\u001b[0m\u001b[0m\n\u001b[0m\u001b[1;32m    473\u001b[0m     \u001b[0mmodel\u001b[0m\u001b[0;34m.\u001b[0m\u001b[0mload_state_dict\u001b[0m\u001b[0;34m(\u001b[0m\u001b[0mcheckpoint\u001b[0m\u001b[0;34m[\u001b[0m\u001b[0;34m'model_state_dict'\u001b[0m\u001b[0;34m]\u001b[0m\u001b[0;34m)\u001b[0m\u001b[0;34m\u001b[0m\u001b[0;34m\u001b[0m\u001b[0m\n\u001b[1;32m    474\u001b[0m \u001b[0;34m\u001b[0m\u001b[0m\n",
            "\u001b[0;32m/usr/local/lib/python3.11/dist-packages/torch/serialization.py\u001b[0m in \u001b[0;36mload\u001b[0;34m(f, map_location, pickle_module, weights_only, mmap, **pickle_load_args)\u001b[0m\n\u001b[1;32m   1468\u001b[0m                         )\n\u001b[1;32m   1469\u001b[0m                     \u001b[0;32mexcept\u001b[0m \u001b[0mpickle\u001b[0m\u001b[0;34m.\u001b[0m\u001b[0mUnpicklingError\u001b[0m \u001b[0;32mas\u001b[0m \u001b[0me\u001b[0m\u001b[0;34m:\u001b[0m\u001b[0;34m\u001b[0m\u001b[0;34m\u001b[0m\u001b[0m\n\u001b[0;32m-> 1470\u001b[0;31m                         \u001b[0;32mraise\u001b[0m \u001b[0mpickle\u001b[0m\u001b[0;34m.\u001b[0m\u001b[0mUnpicklingError\u001b[0m\u001b[0;34m(\u001b[0m\u001b[0m_get_wo_message\u001b[0m\u001b[0;34m(\u001b[0m\u001b[0mstr\u001b[0m\u001b[0;34m(\u001b[0m\u001b[0me\u001b[0m\u001b[0;34m)\u001b[0m\u001b[0;34m)\u001b[0m\u001b[0;34m)\u001b[0m \u001b[0;32mfrom\u001b[0m \u001b[0;32mNone\u001b[0m\u001b[0;34m\u001b[0m\u001b[0;34m\u001b[0m\u001b[0m\n\u001b[0m\u001b[1;32m   1471\u001b[0m                 return _load(\n\u001b[1;32m   1472\u001b[0m                     \u001b[0mopened_zipfile\u001b[0m\u001b[0;34m,\u001b[0m\u001b[0;34m\u001b[0m\u001b[0;34m\u001b[0m\u001b[0m\n",
            "\u001b[0;31mUnpicklingError\u001b[0m: Weights only load failed. This file can still be loaded, to do so you have two options, \u001b[1mdo those steps only if you trust the source of the checkpoint\u001b[0m. \n\t(1) In PyTorch 2.6, we changed the default value of the `weights_only` argument in `torch.load` from `False` to `True`. Re-running `torch.load` with `weights_only` set to `False` will likely succeed, but it can result in arbitrary code execution. Do it only if you got the file from a trusted source.\n\t(2) Alternatively, to load with `weights_only=True` please check the recommended steps in the following error message.\n\tWeightsUnpickler error: Unsupported global: GLOBAL numpy._core.multiarray.scalar was not an allowed global by default. Please use `torch.serialization.add_safe_globals([scalar])` or the `torch.serialization.safe_globals([scalar])` context manager to allowlist this global if you trust this class/function.\n\nCheck the documentation of torch.load to learn more about types accepted by default with weights_only https://pytorch.org/docs/stable/generated/torch.load.html."
          ]
        }
      ]
    },
    {
      "cell_type": "code",
      "source": [
        "model = UNet(NUM_CLASSES).to(DEVICE)\n",
        "\n",
        "if os.path.exists(MODEL_SAVE_PATH):\n",
        "    model.load_state_dict(torch.load(MODEL_SAVE_PATH, map_location=DEVICE))\n",
        "    model.eval()\n",
        "    print(\"✅ Loaded pre-trained model. Skipping training.\")\n",
        "else:\n",
        "    train_model()\n",
        "    model.load_state_dict(torch.load(MODEL_SAVE_PATH, map_location=DEVICE))\n",
        "    model.eval()\n",
        "    print(\"✅ Training done. Loaded best model.\")\n"
      ],
      "metadata": {
        "colab": {
          "base_uri": "https://localhost:8080/",
          "height": 600
        },
        "id": "qsbK96mMZfbL",
        "outputId": "3d77f3de-ef87-4c7d-b46c-1a33bae7275e"
      },
      "execution_count": 12,
      "outputs": [
        {
          "output_type": "error",
          "ename": "UnpicklingError",
          "evalue": "Weights only load failed. This file can still be loaded, to do so you have two options, \u001b[1mdo those steps only if you trust the source of the checkpoint\u001b[0m. \n\t(1) In PyTorch 2.6, we changed the default value of the `weights_only` argument in `torch.load` from `False` to `True`. Re-running `torch.load` with `weights_only` set to `False` will likely succeed, but it can result in arbitrary code execution. Do it only if you got the file from a trusted source.\n\t(2) Alternatively, to load with `weights_only=True` please check the recommended steps in the following error message.\n\tWeightsUnpickler error: Unsupported global: GLOBAL numpy._core.multiarray.scalar was not an allowed global by default. Please use `torch.serialization.add_safe_globals([scalar])` or the `torch.serialization.safe_globals([scalar])` context manager to allowlist this global if you trust this class/function.\n\nCheck the documentation of torch.load to learn more about types accepted by default with weights_only https://pytorch.org/docs/stable/generated/torch.load.html.",
          "traceback": [
            "\u001b[0;31m---------------------------------------------------------------------------\u001b[0m",
            "\u001b[0;31mUnpicklingError\u001b[0m                           Traceback (most recent call last)",
            "\u001b[0;32m<ipython-input-12-90d72d9dbafb>\u001b[0m in \u001b[0;36m<cell line: 0>\u001b[0;34m()\u001b[0m\n\u001b[1;32m      2\u001b[0m \u001b[0;34m\u001b[0m\u001b[0m\n\u001b[1;32m      3\u001b[0m \u001b[0;32mif\u001b[0m \u001b[0mos\u001b[0m\u001b[0;34m.\u001b[0m\u001b[0mpath\u001b[0m\u001b[0;34m.\u001b[0m\u001b[0mexists\u001b[0m\u001b[0;34m(\u001b[0m\u001b[0mMODEL_SAVE_PATH\u001b[0m\u001b[0;34m)\u001b[0m\u001b[0;34m:\u001b[0m\u001b[0;34m\u001b[0m\u001b[0;34m\u001b[0m\u001b[0m\n\u001b[0;32m----> 4\u001b[0;31m     \u001b[0mmodel\u001b[0m\u001b[0;34m.\u001b[0m\u001b[0mload_state_dict\u001b[0m\u001b[0;34m(\u001b[0m\u001b[0mtorch\u001b[0m\u001b[0;34m.\u001b[0m\u001b[0mload\u001b[0m\u001b[0;34m(\u001b[0m\u001b[0mMODEL_SAVE_PATH\u001b[0m\u001b[0;34m,\u001b[0m \u001b[0mmap_location\u001b[0m\u001b[0;34m=\u001b[0m\u001b[0mDEVICE\u001b[0m\u001b[0;34m)\u001b[0m\u001b[0;34m)\u001b[0m\u001b[0;34m\u001b[0m\u001b[0;34m\u001b[0m\u001b[0m\n\u001b[0m\u001b[1;32m      5\u001b[0m     \u001b[0mmodel\u001b[0m\u001b[0;34m.\u001b[0m\u001b[0meval\u001b[0m\u001b[0;34m(\u001b[0m\u001b[0;34m)\u001b[0m\u001b[0;34m\u001b[0m\u001b[0;34m\u001b[0m\u001b[0m\n\u001b[1;32m      6\u001b[0m     \u001b[0mprint\u001b[0m\u001b[0;34m(\u001b[0m\u001b[0;34m\"✅ Loaded pre-trained model. Skipping training.\"\u001b[0m\u001b[0;34m)\u001b[0m\u001b[0;34m\u001b[0m\u001b[0;34m\u001b[0m\u001b[0m\n",
            "\u001b[0;32m/usr/local/lib/python3.11/dist-packages/torch/serialization.py\u001b[0m in \u001b[0;36mload\u001b[0;34m(f, map_location, pickle_module, weights_only, mmap, **pickle_load_args)\u001b[0m\n\u001b[1;32m   1468\u001b[0m                         )\n\u001b[1;32m   1469\u001b[0m                     \u001b[0;32mexcept\u001b[0m \u001b[0mpickle\u001b[0m\u001b[0;34m.\u001b[0m\u001b[0mUnpicklingError\u001b[0m \u001b[0;32mas\u001b[0m \u001b[0me\u001b[0m\u001b[0;34m:\u001b[0m\u001b[0;34m\u001b[0m\u001b[0;34m\u001b[0m\u001b[0m\n\u001b[0;32m-> 1470\u001b[0;31m                         \u001b[0;32mraise\u001b[0m \u001b[0mpickle\u001b[0m\u001b[0;34m.\u001b[0m\u001b[0mUnpicklingError\u001b[0m\u001b[0;34m(\u001b[0m\u001b[0m_get_wo_message\u001b[0m\u001b[0;34m(\u001b[0m\u001b[0mstr\u001b[0m\u001b[0;34m(\u001b[0m\u001b[0me\u001b[0m\u001b[0;34m)\u001b[0m\u001b[0;34m)\u001b[0m\u001b[0;34m)\u001b[0m \u001b[0;32mfrom\u001b[0m \u001b[0;32mNone\u001b[0m\u001b[0;34m\u001b[0m\u001b[0;34m\u001b[0m\u001b[0m\n\u001b[0m\u001b[1;32m   1471\u001b[0m                 return _load(\n\u001b[1;32m   1472\u001b[0m                     \u001b[0mopened_zipfile\u001b[0m\u001b[0;34m,\u001b[0m\u001b[0;34m\u001b[0m\u001b[0;34m\u001b[0m\u001b[0m\n",
            "\u001b[0;31mUnpicklingError\u001b[0m: Weights only load failed. This file can still be loaded, to do so you have two options, \u001b[1mdo those steps only if you trust the source of the checkpoint\u001b[0m. \n\t(1) In PyTorch 2.6, we changed the default value of the `weights_only` argument in `torch.load` from `False` to `True`. Re-running `torch.load` with `weights_only` set to `False` will likely succeed, but it can result in arbitrary code execution. Do it only if you got the file from a trusted source.\n\t(2) Alternatively, to load with `weights_only=True` please check the recommended steps in the following error message.\n\tWeightsUnpickler error: Unsupported global: GLOBAL numpy._core.multiarray.scalar was not an allowed global by default. Please use `torch.serialization.add_safe_globals([scalar])` or the `torch.serialization.safe_globals([scalar])` context manager to allowlist this global if you trust this class/function.\n\nCheck the documentation of torch.load to learn more about types accepted by default with weights_only https://pytorch.org/docs/stable/generated/torch.load.html."
          ]
        }
      ]
    },
    {
      "cell_type": "code",
      "source": [],
      "metadata": {
        "colab": {
          "base_uri": "https://localhost:8080/",
          "height": 115
        },
        "id": "cLJxsO2Di3T9",
        "outputId": "ffc0c026-46c3-4d14-84a2-edcbb61db495"
      },
      "execution_count": 11,
      "outputs": [
        {
          "output_type": "error",
          "ename": "SyntaxError",
          "evalue": "invalid syntax (<ipython-input-11-a552287a3637>, line 2)",
          "traceback": [
            "\u001b[0;36m  File \u001b[0;32m\"<ipython-input-11-a552287a3637>\"\u001b[0;36m, line \u001b[0;32m2\u001b[0m\n\u001b[0;31m    python inference.py\u001b[0m\n\u001b[0m           ^\u001b[0m\n\u001b[0;31mSyntaxError\u001b[0m\u001b[0;31m:\u001b[0m invalid syntax\n"
          ]
        }
      ]
    },
    {
      "cell_type": "code",
      "source": [],
      "metadata": {
        "id": "8jUYWwgLjoNg"
      },
      "execution_count": null,
      "outputs": []
    }
  ]
}